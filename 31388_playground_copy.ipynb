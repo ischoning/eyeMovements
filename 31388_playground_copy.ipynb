{
 "cells": [
  {
   "cell_type": "code",
   "execution_count": 14,
   "metadata": {
    "collapsed": true,
    "pycharm": {
     "is_executing": false,
     "name": "#%%\n"
    }
   },
   "outputs": [
    {
     "name": "stdout",
     "text": [
      "Path:\n",
      " [[-0.084  0.34 ]\n",
      " [-0.143  0.836]\n",
      " [-0.207  1.333]\n",
      " [-0.269  1.829]\n",
      " [-0.331  2.326]\n",
      " [-0.392  2.822]\n",
      " [-0.449  3.321]\n",
      " [-0.512  3.814]]\n"
     ],
     "output_type": "stream"
    },
    {
     "data": {
      "text/plain": "<Figure size 432x288 with 1 Axes>",
      "image/png": "[encoded data removed]"
     },
     "metadata": {
      "needs_background": "light"
     },
     "output_type": "display_data"
    }
   ],
   "source": [
    "import numpy as np\n",
    "import matplotlib.pyplot as plt\n",
    "\n",
    "\"\"\"\n",
    "An algorithm that detects the closest point, extrapolates nearest points\n",
    "associated in the same row, and outputs a path shifted along the x-axis.\n",
    "\"\"\"\n",
    "\n",
    "def func(d, line):\n",
    "\n",
    "    # sort from closest distance\n",
    "    d = dict(sorted(d.items(), key=lambda item: item[1]))\n",
    "    closest = list(d.keys())[0]\n",
    "    min_dist = list(d.values())[0]\n",
    "    d.pop(closest)\n",
    "    \n",
    "    for key, value in d.items():\n",
    "        d[key] = np.sqrt((closest[0]-key[0])**2 + (closest[1]-key[1])**2)\n",
    "    \n",
    "    # only add a point to the path if it's over 0.3m, otherwise it's\n",
    "    # inefficient\n",
    "    thresh = 0.6 # 0.65m between each row\n",
    "    if min_dist >= thresh:\n",
    "        return line\n",
    "    elif min_dist >= thresh/2:\n",
    "        line.append(closest)\n",
    "        return func(d, line)\n",
    "    else:\n",
    "        return func(d, line)\n",
    "\n",
    "data = np.array([[-1.117, 0.245], [-1.115, 0.252], [-1.115, 0.26], [-0.374, 0.243], [-0.373, 0.246], [-0.37, 0.247], [-0.367, 0.249], [-0.366, 0.251], [-0.363, 0.253], [-0.361, 0.255], [-0.371, 0.266], [-1.134, 1.243], [-1.122, 1.246], [-1.119, 1.259], [-1.133, 1.745], [-1.12, 1.75], [-0.388, 0.749], [-0.38, 0.746], [-0.373, 0.745], [-0.368, 0.747], [-0.367, 0.756], [-1.136, 2.743], [-1.123, 2.761], [-1.126, 3.246], [-0.388, 1.25], [-0.376, 1.241], [-0.37, 1.25], [-1.137, 4.243], [-1.139, 4.743], [-0.383, 1.745], [-0.372, 1.748], [-1.141, 5.738], [-0.386, 2.246], [-0.371, 2.25], [-1.147, 7.243], [-0.38, 2.746], [-1.151, 8.746], [-1.156, 9.244], [-0.384, 3.241], [-0.394, 3.746], [-0.39, 4.244], [-0.398, 6.744], [-0.406, 7.748], [-0.401, 8.744], [0.344, 8.747], [0.355, 7.749], [0.354, 6.748], [0.345, 5.258], [0.362, 4.246], [0.369, 3.75], [0.363, 3.248], [1.095, 9.25], [1.094, 8.752], [0.362, 2.747], [1.099, 7.246], [0.357, 2.255], [0.371, 2.25], [1.104, 5.748], [0.36, 1.751], [0.371, 1.745], [1.107, 4.746], [1.109, 4.251], [0.361, 1.25], [0.37, 1.248], [0.379, 1.248], [1.104, 3.252], [1.118, 2.749], [0.361, 0.756], [0.364, 0.75], [0.368, 0.747], [0.372, 0.743], [1.108, 1.757], [1.119, 1.748], [1.109, 1.265], [1.113, 1.252], [1.129, 1.254], [0.364, 0.265], [0.363, 0.26], [0.363, 0.256], [0.365, 0.254], [0.367, 0.252], [0.366, 0.248], [0.371, 0.248], [0.377, 0.249], [1.11, 0.267], [1.114, 0.26], [1.119, 0.253]])\n",
    "data = np.array([[-1.122, 0.526], [-1.114, 0.531], [-1.115, 0.541], [-1.073, 0.892], [-1.059, 0.893], [-1.055, 0.901], [-0.404, 0.409], [-0.398, 0.409], [-0.395, 0.411], [-0.389, 0.41], [-0.386, 0.412], [-0.385, 0.416], [-0.385, 0.422], [-0.386, 0.429], [-1.142, 1.864], [-1.138, 1.884], [-1.127, 2.143], [-1.117, 2.158], [-1.454, 2.948], [-1.094, 2.333], [-3.92, 8.504], [-1.651, 3.776], [-2.551, 6.518], [-1.616, 4.21], [-1.605, 4.351], [-2.259, 6.25], [-1.78, 5.025], [-1.864, 5.376], [-0.261, 0.859], [-0.254, 0.858], [-0.246, 0.852], [-0.242, 0.859], [-0.239, 0.869], [-2.155, 8.257], [-1.721, 6.776], [-0.731, 3.135], [-0.858, 3.792], [-0.276, 1.26], [-0.267, 1.258], [-0.261, 1.266], [-0.89, 4.634], [-0.421, 2.269], [-0.903, 6.857], [-0.665, 7.795], [-0.461, 5.862], [-0.386, 5.353], [-0.227, 4.943], [-0.122, 3.739], [-0.022, 3.432], [0.238, 6.056], [0.137, 2.985], [0.428, 5.434], [0.477, 5.186], [0.298, 2.387], [0.313, 2.376], [0.595, 4.302], [0.316, 1.837], [0.327, 1.83], [0.731, 3.552], [0.785, 3.369], [0.809, 3.369], [0.454, 1.462], [0.462, 1.454], [0.471, 1.45], [1.031, 2.584], [1.047, 2.576], [0.426, 0.894], [0.423, 0.873], [0.432, 0.875], [0.436, 0.871], [1.069, 1.852], [1.082, 1.846], [1.165, 1.649], [1.181, 1.648], [0.383, 0.318], [0.385, 0.316], [0.384, 0.311], [0.385, 0.308], [0.386, 0.305], [0.386, 0.3], [0.393, 0.301], [0.399, 0.302], [0.407, 0.304], [1.254, 0.874], [1.254, 0.862], [1.266, 0.858], [1.054, 0.132], [1.058, 0.125], [1.057, 0.118]])\n",
    "data = np.array([[-1.149, 0.252], [-1.149, 0.26], [-1.15, 0.268], [-1.218, 0.747], [-1.208, 0.751], [-1.213, 0.765], [-0.412, 0.338], [-0.409, 0.34], [-0.409, 0.345], [-0.407, 0.347], [-0.403, 0.349], [-0.401, 0.352], [-1.276, 1.243], [-1.27, 1.254], [-1.333, 1.737], [-1.331, 1.759], [-1.412, 2.238], [-1.394, 2.241], [-0.484, 0.838], [-0.476, 0.837], [-0.468, 0.836], [-0.466, 0.844], [-0.464, 0.855], [-1.46, 2.731], [-1.515, 3.231], [-1.574, 3.731], [-0.543, 1.336], [-0.532, 1.333], [-0.524, 1.34], [-1.704, 4.714], [-1.768, 5.207], [-0.608, 1.832], [-0.594, 1.829], [-0.586, 1.844], [-1.882, 6.205], [-1.94, 6.711], [-0.656, 2.326], [-2.063, 7.699], [-2.137, 8.19], [-0.717, 2.822], [-2.323, 9.678], [-0.774, 3.321], [-0.837, 3.814], [-0.956, 4.807], [-1.019, 5.304], [-1.076, 5.805], [-1.213, 6.793], [-1.338, 7.787], [-1.449, 8.775], [-0.842, 9.87], [-0.698, 8.872], [-0.532, 7.381], [-0.347, 5.891], [-0.283, 5.391], [-0.225, 4.897], [-0.102, 3.904], [-0.045, 3.412], [0.019, 2.916], [0.156, 7.965], [0.079, 2.42], [0.095, 2.421], [0.34, 6.478], [0.392, 5.987], [0.139, 1.923], [0.151, 1.919], [0.468, 5.486], [0.524, 4.987], [0.592, 4.496], [0.197, 1.424], [0.206, 1.424], [0.216, 1.425], [0.634, 4.005], [0.697, 3.503], [0.764, 3.008], [0.256, 0.932], [0.263, 0.932], [0.268, 0.926], [0.277, 0.934], [0.818, 2.516], [0.834, 2.511], [0.882, 2.016], [0.895, 2.01], [0.938, 1.531], [0.944, 1.518], [0.959, 1.52], [0.316, 0.447], [0.318, 0.444], [0.32, 0.44], [0.32, 0.435], [0.322, 0.431], [0.325, 0.429], [0.332, 0.433], [0.34, 0.437], [1.002, 1.029], [1.007, 1.02], [1.022, 1.022], [1.068, 0.544], [1.064, 0.533], [1.067, 0.526]])\n",
    "\n",
    "x, y = data.T\n",
    "\n",
    "# dictionary of points with associated distances from closest\n",
    "d = {(x[i],y[i]):np.sqrt(x[i]**2 + y[i]**2) for i in range(len(data))}\n",
    "\n",
    "row = func(d, line = [])\n",
    "row = np.array(row)\n",
    "# print(row)\n",
    "r_x, r_y = row.T\n",
    "\n",
    "# Follow a path 0.325m to the right of the row if x<0 for first point in\n",
    "# line, otherwise 0.325m to the left. Recall that each row is 0.65m wide.\n",
    "path_x = row[:,0] - np.sign(row[:,0])*0.325\n",
    "path = np.array([path_x, r_y])\n",
    "path = path.T\n",
    "print(\"Path:\\n\", path)\n",
    "\n",
    "plt.scatter(x,y)\n",
    "plt.scatter(r_x, r_y, color='green')\n",
    "plt.plot(path_x,r_y, color='black', label = 'path to follow')\n",
    "plt.xlabel('x')\n",
    "plt.ylabel('y')\n",
    "plt.legend(loc = 'upper right')\n",
    "plt.show()"
   ]
  },
  {
   "cell_type": "code",
   "execution_count": 15,
   "outputs": [
    {
     "data": {
      "text/plain": "<Figure size 432x288 with 1 Axes>",
      "image/png": "[encoded data removed]"
     },
     "metadata": {
      "needs_background": "light"
     },
     "output_type": "display_data"
    }
   ],
   "source": [
    "import numpy as np\n",
    "import matplotlib.pyplot as plt\n",
    "\n",
    "data = np.array([[-1.117, 0.245], [-1.115, 0.252], [-1.115, 0.26], [-0.374, 0.243], [-0.373, 0.246], [-0.37, 0.247], [-0.367, 0.249], [-0.366, 0.251], [-0.363, 0.253], [-0.361, 0.255], [-0.371, 0.266], [-1.134, 1.243], [-1.122, 1.246], [-1.119, 1.259], [-1.133, 1.745], [-1.12, 1.75], [-0.388, 0.749], [-0.38, 0.746], [-0.373, 0.745], [-0.368, 0.747], [-0.367, 0.756], [-1.136, 2.743], [-1.123, 2.761], [-1.126, 3.246], [-0.388, 1.25], [-0.376, 1.241], [-0.37, 1.25], [-1.137, 4.243], [-1.139, 4.743], [-0.383, 1.745], [-0.372, 1.748], [-1.141, 5.738], [-0.386, 2.246], [-0.371, 2.25], [-1.147, 7.243], [-0.38, 2.746], [-1.151, 8.746], [-1.156, 9.244], [-0.384, 3.241], [-0.394, 3.746], [-0.39, 4.244], [-0.398, 6.744], [-0.406, 7.748], [-0.401, 8.744], [0.344, 8.747], [0.355, 7.749], [0.354, 6.748], [0.345, 5.258], [0.362, 4.246], [0.369, 3.75], [0.363, 3.248], [1.095, 9.25], [1.094, 8.752], [0.362, 2.747], [1.099, 7.246], [0.357, 2.255], [0.371, 2.25], [1.104, 5.748], [0.36, 1.751], [0.371, 1.745], [1.107, 4.746], [1.109, 4.251], [0.361, 1.25], [0.37, 1.248], [0.379, 1.248], [1.104, 3.252], [1.118, 2.749], [0.361, 0.756], [0.364, 0.75], [0.368, 0.747], [0.372, 0.743], [1.108, 1.757], [1.119, 1.748], [1.109, 1.265], [1.113, 1.252], [1.129, 1.254], [0.364, 0.265], [0.363, 0.26], [0.363, 0.256], [0.365, 0.254], [0.367, 0.252], [0.366, 0.248], [0.371, 0.248], [0.377, 0.249], [1.11, 0.267], [1.114, 0.26], [1.119, 0.253]])\n",
    "data = np.array([[-1.122, 0.526], [-1.114, 0.531], [-1.115, 0.541], [-1.073, 0.892], [-1.059, 0.893], [-1.055, 0.901], [-0.404, 0.409], [-0.398, 0.409], [-0.395, 0.411], [-0.389, 0.41], [-0.386, 0.412], [-0.385, 0.416], [-0.385, 0.422], [-0.386, 0.429], [-1.142, 1.864], [-1.138, 1.884], [-1.127, 2.143], [-1.117, 2.158], [-1.454, 2.948], [-1.094, 2.333], [-3.92, 8.504], [-1.651, 3.776], [-2.551, 6.518], [-1.616, 4.21], [-1.605, 4.351], [-2.259, 6.25], [-1.78, 5.025], [-1.864, 5.376], [-0.261, 0.859], [-0.254, 0.858], [-0.246, 0.852], [-0.242, 0.859], [-0.239, 0.869], [-2.155, 8.257], [-1.721, 6.776], [-0.731, 3.135], [-0.858, 3.792], [-0.276, 1.26], [-0.267, 1.258], [-0.261, 1.266], [-0.89, 4.634], [-0.421, 2.269], [-0.903, 6.857], [-0.665, 7.795], [-0.461, 5.862], [-0.386, 5.353], [-0.227, 4.943], [-0.122, 3.739], [-0.022, 3.432], [0.238, 6.056], [0.137, 2.985], [0.428, 5.434], [0.477, 5.186], [0.298, 2.387], [0.313, 2.376], [0.595, 4.302], [0.316, 1.837], [0.327, 1.83], [0.731, 3.552], [0.785, 3.369], [0.809, 3.369], [0.454, 1.462], [0.462, 1.454], [0.471, 1.45], [1.031, 2.584], [1.047, 2.576], [0.426, 0.894], [0.423, 0.873], [0.432, 0.875], [0.436, 0.871], [1.069, 1.852], [1.082, 1.846], [1.165, 1.649], [1.181, 1.648], [0.383, 0.318], [0.385, 0.316], [0.384, 0.311], [0.385, 0.308], [0.386, 0.305], [0.386, 0.3], [0.393, 0.301], [0.399, 0.302], [0.407, 0.304], [1.254, 0.874], [1.254, 0.862], [1.266, 0.858], [1.054, 0.132], [1.058, 0.125], [1.057, 0.118]])\n",
    "data = np.array([[-1.149, 0.252], [-1.149, 0.26], [-1.15, 0.268], [-1.218, 0.747], [-1.208, 0.751], [-1.213, 0.765], [-0.412, 0.338], [-0.409, 0.34], [-0.409, 0.345], [-0.407, 0.347], [-0.403, 0.349], [-0.401, 0.352], [-1.276, 1.243], [-1.27, 1.254], [-1.333, 1.737], [-1.331, 1.759], [-1.412, 2.238], [-1.394, 2.241], [-0.484, 0.838], [-0.476, 0.837], [-0.468, 0.836], [-0.466, 0.844], [-0.464, 0.855], [-1.46, 2.731], [-1.515, 3.231], [-1.574, 3.731], [-0.543, 1.336], [-0.532, 1.333], [-0.524, 1.34], [-1.704, 4.714], [-1.768, 5.207], [-0.608, 1.832], [-0.594, 1.829], [-0.586, 1.844], [-1.882, 6.205], [-1.94, 6.711], [-0.656, 2.326], [-2.063, 7.699], [-2.137, 8.19], [-0.717, 2.822], [-2.323, 9.678], [-0.774, 3.321], [-0.837, 3.814], [-0.956, 4.807], [-1.019, 5.304], [-1.076, 5.805], [-1.213, 6.793], [-1.338, 7.787], [-1.449, 8.775], [-0.842, 9.87], [-0.698, 8.872], [-0.532, 7.381], [-0.347, 5.891], [-0.283, 5.391], [-0.225, 4.897], [-0.102, 3.904], [-0.045, 3.412], [0.019, 2.916], [0.156, 7.965], [0.079, 2.42], [0.095, 2.421], [0.34, 6.478], [0.392, 5.987], [0.139, 1.923], [0.151, 1.919], [0.468, 5.486], [0.524, 4.987], [0.592, 4.496], [0.197, 1.424], [0.206, 1.424], [0.216, 1.425], [0.634, 4.005], [0.697, 3.503], [0.764, 3.008], [0.256, 0.932], [0.263, 0.932], [0.268, 0.926], [0.277, 0.934], [0.818, 2.516], [0.834, 2.511], [0.882, 2.016], [0.895, 2.01], [0.938, 1.531], [0.944, 1.518], [0.959, 1.52], [0.316, 0.447], [0.318, 0.444], [0.32, 0.44], [0.32, 0.435], [0.322, 0.431], [0.325, 0.429], [0.332, 0.433], [0.34, 0.437], [1.002, 1.029], [1.007, 1.02], [1.022, 1.022], [1.068, 0.544], [1.064, 0.533], [1.067, 0.526]])\n",
    "\n",
    "x, y = data.T\n",
    "\n",
    "plt.scatter(x, y)\n",
    "plt.show()"
   ],
   "metadata": {
    "collapsed": false,
    "pycharm": {
     "name": "#%%\n",
     "is_executing": false
    }
   }
  },
  {
   "cell_type": "code",
   "execution_count": 16,
   "outputs": [
    {
     "data": {
      "text/plain": "<Figure size 432x288 with 1 Axes>",
      "image/png": "[encoded data removed]"
     },
     "metadata": {
      "needs_background": "light"
     },
     "output_type": "display_data"
    }
   ],
   "source": [
    "left = data[x<0]\n",
    "right = data[x>0]\n",
    "\n",
    "# find closest on left and right\n",
    "x, y = left.T\n",
    "plt.scatter(x, y)\n",
    "plt.show()\n",
    "\n",
    "d = x**2 + y**2\n",
    "min_i = np.argmin(d)\n",
    "min_x = x[min_i]"
   ],
   "metadata": {
    "collapsed": false,
    "pycharm": {
     "name": "#%% LEFT\n",
     "is_executing": false
    }
   }
  },
  {
   "cell_type": "code",
   "execution_count": 17,
   "outputs": [
    {
     "data": {
      "text/plain": "<Figure size 432x288 with 1 Axes>",
      "image/png": "[encoded data removed]"
     },
     "metadata": {
      "needs_background": "light"
     },
     "output_type": "display_data"
    }
   ],
   "source": [
    "sigma = 0.1\n",
    "left_closest = left[x >= min_x-sigma]\n",
    "\n",
    "x, y = left_closest.T\n",
    "plt.scatter(x, y)\n",
    "plt.show()\n",
    "\n",
    "x_l = x"
   ],
   "metadata": {
    "collapsed": false,
    "pycharm": {
     "name": "#%%\n",
     "is_executing": false
    }
   }
  },
  {
   "cell_type": "code",
   "execution_count": 18,
   "outputs": [
    {
     "name": "stdout",
     "text": [
      "(10.325559237575053, 5.604660571073306)\n"
     ],
     "output_type": "stream"
    },
    {
     "data": {
      "text/plain": "<Figure size 720x576 with 1 Axes>",
      "image/png": "[encoded data removed]"
     },
     "metadata": {
      "needs_background": "light"
     },
     "output_type": "display_data"
    }
   ],
   "source": [
    "A = np.vstack([x, np.ones(len(x))]).T\n",
    "m, c = np.linalg.lstsq(A, y, rcond=None)[0]\n",
    "print((m, c))\n",
    "# plot the results\n",
    "plt.figure(figsize = (10,8))\n",
    "plt.plot(x, y, 'b.')\n",
    "plt.plot(x, m*x + c, 'r')\n",
    "plt.xlabel('x')\n",
    "plt.ylabel('y')\n",
    "plt.show()\n",
    "\n",
    "ml, cl = (m, c)"
   ],
   "metadata": {
    "collapsed": false,
    "pycharm": {
     "name": "#%%\n",
     "is_executing": false
    }
   }
  },
  {
   "cell_type": "code",
   "execution_count": 19,
   "outputs": [
    {
     "data": {
      "text/plain": "<Figure size 432x288 with 1 Axes>",
      "image/png": "[encoded data removed]"
     },
     "metadata": {
      "needs_background": "light"
     },
     "output_type": "display_data"
    },
    {
     "name": "stdout",
     "text": [
      "0.322\n"
     ],
     "output_type": "stream"
    }
   ],
   "source": [
    "# find closest on left and right\n",
    "x, y = right.T\n",
    "plt.scatter(x, y)\n",
    "plt.show()\n",
    "\n",
    "d = np.sqrt(x**2 + y**2)\n",
    "min_i = np.argmin(d)\n",
    "min_x = x[min_i]\n",
    "print(min_x)"
   ],
   "metadata": {
    "collapsed": false,
    "pycharm": {
     "name": "#%% RIGHT\n",
     "is_executing": false
    }
   }
  },
  {
   "cell_type": "code",
   "execution_count": 20,
   "outputs": [
    {
     "name": "stdout",
     "text": [
      "[[0.019 2.916]\n",
      " [0.156 7.965]\n",
      " [0.079 2.42 ]\n",
      " [0.095 2.421]\n",
      " [0.34  6.478]\n",
      " [0.392 5.987]\n",
      " [0.139 1.923]\n",
      " [0.151 1.919]\n",
      " [0.197 1.424]\n",
      " [0.206 1.424]\n",
      " [0.216 1.425]\n",
      " [0.256 0.932]\n",
      " [0.263 0.932]\n",
      " [0.268 0.926]\n",
      " [0.277 0.934]\n",
      " [0.316 0.447]\n",
      " [0.318 0.444]\n",
      " [0.32  0.44 ]\n",
      " [0.32  0.435]\n",
      " [0.322 0.431]\n",
      " [0.325 0.429]\n",
      " [0.332 0.433]\n",
      " [0.34  0.437]]\n"
     ],
     "output_type": "stream"
    },
    {
     "data": {
      "text/plain": "<Figure size 432x288 with 1 Axes>",
      "image/png": "[encoded data removed]"
     },
     "metadata": {
      "needs_background": "light"
     },
     "output_type": "display_data"
    }
   ],
   "source": [
    "sigma = 0.1\n",
    "right_closest = right[x <= min_x+sigma]\n",
    "print(right_closest)\n",
    "x ,y = right_closest.T\n",
    "plt.scatter(x, y)\n",
    "plt.show()\n",
    "\n",
    "x_r = x"
   ],
   "metadata": {
    "collapsed": false,
    "pycharm": {
     "name": "#%%\n",
     "is_executing": false
    }
   }
  },
  {
   "cell_type": "code",
   "execution_count": 21,
   "outputs": [
    {
     "name": "stdout",
     "text": [
      "(-3.9396024988807823, 2.8595189265730343)\n"
     ],
     "output_type": "stream"
    },
    {
     "data": {
      "text/plain": "<Figure size 720x576 with 1 Axes>",
      "image/png": "[encoded data removed]"
     },
     "metadata": {
      "needs_background": "light"
     },
     "output_type": "display_data"
    }
   ],
   "source": [
    "A = np.vstack([x, np.ones(len(x))]).T\n",
    "m, c = np.linalg.lstsq(A, y, rcond=None)[0]\n",
    "print((m, c))\n",
    "# plot the results\n",
    "plt.figure(figsize = (10,8))\n",
    "plt.plot(x, y, 'b.')\n",
    "plt.plot(x, m*x + c, 'r')\n",
    "plt.xlabel('x')\n",
    "plt.ylabel('y')\n",
    "plt.show()\n",
    "\n",
    "mr, cr = (m, c)"
   ],
   "metadata": {
    "collapsed": false,
    "pycharm": {
     "name": "#%%\n",
     "is_executing": false
    }
   }
  },
  {
   "cell_type": "code",
   "execution_count": 22,
   "outputs": [
    {
     "traceback": [
      "\u001b[0;31m---------------------------------------------------------------------------\u001b[0m",
      "\u001b[0;31mValueError\u001b[0m                                Traceback (most recent call last)",
      "\u001b[0;32m<ipython-input-22-09d83bc473b7>\u001b[0m in \u001b[0;36m<module>\u001b[0;34m\u001b[0m\n\u001b[1;32m      1\u001b[0m \u001b[0mx\u001b[0m\u001b[0;34m,\u001b[0m \u001b[0my\u001b[0m \u001b[0;34m=\u001b[0m \u001b[0mdata\u001b[0m\u001b[0;34m.\u001b[0m\u001b[0mT\u001b[0m\u001b[0;34m\u001b[0m\u001b[0;34m\u001b[0m\u001b[0m\n\u001b[0;32m----> 2\u001b[0;31m \u001b[0mx_path\u001b[0m \u001b[0;34m=\u001b[0m \u001b[0;34m(\u001b[0m\u001b[0mx_r\u001b[0m \u001b[0;34m+\u001b[0m \u001b[0mx_l\u001b[0m\u001b[0;34m)\u001b[0m\u001b[0;34m/\u001b[0m\u001b[0;36m2\u001b[0m\u001b[0;34m\u001b[0m\u001b[0;34m\u001b[0m\u001b[0m\n\u001b[0m\u001b[1;32m      3\u001b[0m \u001b[0mm\u001b[0m \u001b[0;34m=\u001b[0m \u001b[0;34m(\u001b[0m\u001b[0mml\u001b[0m \u001b[0;34m+\u001b[0m \u001b[0mmr\u001b[0m\u001b[0;34m)\u001b[0m\u001b[0;34m/\u001b[0m\u001b[0;36m2\u001b[0m\u001b[0;34m\u001b[0m\u001b[0;34m\u001b[0m\u001b[0m\n\u001b[1;32m      4\u001b[0m \u001b[0mc\u001b[0m \u001b[0;34m=\u001b[0m \u001b[0;34m(\u001b[0m\u001b[0mcl\u001b[0m \u001b[0;34m+\u001b[0m \u001b[0mcr\u001b[0m\u001b[0;34m)\u001b[0m\u001b[0;34m/\u001b[0m\u001b[0;36m2\u001b[0m\u001b[0;34m\u001b[0m\u001b[0;34m\u001b[0m\u001b[0m\n\u001b[1;32m      5\u001b[0m \u001b[0;34m\u001b[0m\u001b[0m\n",
      "\u001b[0;31mValueError\u001b[0m: operands could not be broadcast together with shapes (23,) (16,) "
     ],
     "ename": "ValueError",
     "evalue": "operands could not be broadcast together with shapes (23,) (16,) ",
     "output_type": "error"
    }
   ],
   "source": [
    "x, y = data.T\n",
    "x_path = (x_r + x_l)/2\n",
    "m = (ml + mr)/2\n",
    "c = (cl + cr)/2\n",
    "\n",
    "y_l = ml*x_l + cl\n",
    "y_r = mr*x_r + cr\n",
    "y_path = (y_l+y_r)/2\n",
    "\n",
    "plt.scatter(x, y)\n",
    "plt.plot(x_l, y_l, 'r')\n",
    "plt.plot(x_r, y_r, 'r')\n",
    "plt.plot(x_path, y_path, 'black')\n",
    "plt.show()\n",
    "\n",
    "print(x_path)\n",
    "print(y_path)"
   ],
   "metadata": {
    "collapsed": false,
    "pycharm": {
     "name": "#%% Find line between best fits\n",
     "is_executing": false
    }
   }
  },
  {
   "cell_type": "code",
   "execution_count": null,
   "outputs": [],
   "source": [
    "import skimage\n",
    "from skimage.measure import ransac\n",
    "from skimage.measure import ransac, LineModelND, datasets\n",
    "\n",
    "n_samples = len(x)\n",
    "\n",
    "\n",
    "X, y, coef = datasets.make_regression(n_samples=n_samples, n_features=1,\n",
    "                                      n_informative=1, noise=10,\n",
    "                                      coef=True, random_state=0)\n",
    "print(X)\n",
    "print(y)\n",
    "print(coef)\n",
    "# Fit line using all data\n",
    "lr = linear_model.LinearRegression()\n",
    "lr.fit(X, y)\n",
    "\n",
    "# Robustly fit linear model with RANSAC algorithm\n",
    "ransac = linear_model.RANSACRegressor()\n",
    "ransac.fit(X, y)\n",
    "inlier_mask = ransac.inlier_mask_\n",
    "outlier_mask = np.logical_not(inlier_mask)\n",
    "\n",
    "# Predict data of estimated models\n",
    "line_X = np.arange(X.min(), X.max())[:, np.newaxis]\n",
    "line_y = lr.predict(line_X)\n",
    "line_y_ransac = ransac.predict(line_X)\n",
    "\n",
    "# Compare estimated coefficients\n",
    "print(\"Estimated coefficients (true, linear regression, RANSAC):\")\n",
    "print(coef, lr.coef_, ransac.estimator_.coef_)\n",
    "\n",
    "lw = 2\n",
    "plt.scatter(X[inlier_mask], y[inlier_mask], color='yellowgreen', marker='.',\n",
    "            label='Inliers')\n",
    "plt.scatter(X[outlier_mask], y[outlier_mask], color='gold', marker='.',\n",
    "            label='Outliers')\n",
    "plt.plot(line_X, line_y, color='navy', linewidth=lw, label='Linear regressor')\n",
    "plt.plot(line_X, line_y_ransac, color='cornflowerblue', linewidth=lw,\n",
    "         label='RANSAC regressor')\n",
    "plt.legend(loc='lower right')\n",
    "plt.xlabel(\"Input\")\n",
    "plt.ylabel(\"Response\")\n",
    "plt.show()"
   ],
   "metadata": {
    "collapsed": false,
    "pycharm": {
     "name": "#%% EXTRA (not relevant)\n",
     "is_executing": false
    }
   }
  },
  {
   "cell_type": "code",
   "execution_count": null,
   "outputs": [],
   "source": [
    "from sklearn.neighbors import NearestNeighbors\n",
    "import numpy as np\n",
    "\n",
    "X = np.array([[-1, -1], [-2, -1], [-3, -2], [1, 1], [2, 1], [3, 2]])\n",
    "K = 2\n",
    "nbrs = NearestNeighbors(n_neighbors=K, algorithm='ball_tree').fit(X)\n",
    "distances, indices = nbrs.kneighbors(X)\n",
    "print(distances)\n",
    "\n",
    "x, y = np.split(X,[-1],axis=1)\n",
    "plt.scatter(x,y)\n",
    "plt.show()"
   ],
   "metadata": {
    "collapsed": false,
    "pycharm": {
     "name": "#%% https://pythonbasics.org/k-nearest-neighbors/\n",
     "is_executing": false
    }
   }
  },
  {
   "cell_type": "code",
   "execution_count": null,
   "outputs": [],
   "source": [
    "from sklearn.neighbors import KNeighborsClassifier\n",
    "import numpy as np\n",
    "\n",
    "# dataset\n",
    "X = np.array([[-1, -1], [-2, -1], [-3, -2], [1, 1], [2, 1], [3, 2]])\n",
    "target =  [0, 0, 0, 1, 1, 1]\n",
    "\n",
    "# fit a k-nearest neighbor model to the data\n",
    "K = 3\n",
    "model = KNeighborsClassifier(n_neighbors = K)\n",
    "model.fit(X, target)\n",
    "print(model)\n",
    "\n",
    "# make predictions\n",
    "print( '(-2,-2) is class'),\n",
    "print( model.predict([[-2,-2]]) )\n",
    "\n",
    "print( '(1,3) is class'),\n",
    "print( model.predict([[1,3]]) )"
   ],
   "metadata": {
    "collapsed": false,
    "pycharm": {
     "name": "#%% https://pythonbasics.org/k-nearest-neighbors/\n",
     "is_executing": false
    }
   }
  },
  {
   "cell_type": "code",
   "execution_count": null,
   "outputs": [],
   "source": [
    "from sklearn.neighbors import KNeighborsRegressor\n",
    "\n",
    "# dataset (X=m^2, y=rental price)\n",
    "X = [[40], [45], [60], [70]]\n",
    "y = [1000, 1200, 2000, 2500]\n",
    "\n",
    "# fit\n",
    "neigh = KNeighborsRegressor(n_neighbors=2)\n",
    "neigh.fit(X, y)\n",
    "\n",
    "# predict\n",
    "print('Monthly Rental Price for 65m^2 in $'),\n",
    "print(neigh.predict([[65]]))"
   ],
   "metadata": {
    "collapsed": false,
    "pycharm": {
     "name": "#%% https://pythonbasics.org/k-nearest-neighbors/\n",
     "is_executing": false
    }
   }
  }
 ],
 "metadata": {
  "kernelspec": {
   "display_name": "Python 3",
   "language": "python",
   "name": "python3"
  },
  "language_info": {
   "codemirror_mode": {
    "name": "ipython",
    "version": 2
   },
   "file_extension": ".py",
   "mimetype": "text/x-python",
   "name": "python",
   "nbconvert_exporter": "python",
   "pygments_lexer": "ipython2",
   "version": "2.7.6"
  },
  "pycharm": {
   "stem_cell": {
    "cell_type": "raw",
    "source": [],
    "metadata": {
     "collapsed": false
    }
   }
  }
 },
 "nbformat": 4,
 "nbformat_minor": 0
}