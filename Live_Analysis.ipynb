{
 "cells": [
  {
   "cell_type": "code",
   "execution_count": 1,
   "metadata": {
    "collapsed": true,
    "pycharm": {
     "is_executing": false
    }
   },
   "outputs": [],
   "source": [
    "import pandas as pd\n",
    "import matplotlib.pyplot as plt\n",
    "import numpy as np\n",
    "from pylab import *\n",
    "\n",
    "# replace scientific notation with 5 decimal rounded floats\n",
    "#pd.set_option('display.float_format', lambda x: '%.5f' % x)\n",
    "# reset here:\n",
    "#pd.reset_option('display.float_format')"
   ]
  },
  {
   "cell_type": "code",
   "execution_count": 2,
   "outputs": [],
   "source": [
    "# files\n",
    "file = 'varjo_gaze_output_2021-02-10-17-22_isabella.csv'\n",
    "file_james = 'varjo_gaze_output_2021-02-05_james.csv' # sep=;\n",
    "file_mateusz = 'varjo_gaze_output_2021-02-05_mateusz.csv' # sep=,"
   ],
   "metadata": {
    "collapsed": false,
    "pycharm": {
     "name": "#%%\n",
     "is_executing": false
    }
   }
  },
  {
   "cell_type": "code",
   "execution_count": 3,
   "outputs": [
    {
     "name": "stderr",
     "text": [
      "/opt/miniconda3/envs/visaid/lib/python3.7/site-packages/ipykernel_launcher.py:5: SettingWithCopyWarning: \n",
      "A value is trying to be set on a copy of a slice from a DataFrame.\n",
      "Try using .loc[row_indexer,col_indexer] = value instead\n",
      "\n",
      "See the caveats in the documentation: http://pandas.pydata.org/pandas-docs/stable/user_guide/indexing.html#returning-a-view-versus-a-copy\n",
      "  \"\"\"\n"
     ],
     "output_type": "stream"
    },
    {
     "data": {
      "text/plain": "   LeftEyeForward_x  LeftEyeForward_y  RightEyeForward_x  RightEyeForward_y\n0          0.029644         -0.071191           0.007722          -0.069354\n1          0.029604         -0.071312           0.007609          -0.069572\n2          0.029517         -0.071479           0.007795          -0.069510\n3          0.029511         -0.071816           0.007635          -0.069629\n4          0.029469         -0.071899           0.007510          -0.069768",
      "text/html": "<div>\n<style scoped>\n    .dataframe tbody tr th:only-of-type {\n        vertical-align: middle;\n    }\n\n    .dataframe tbody tr th {\n        vertical-align: top;\n    }\n\n    .dataframe thead th {\n        text-align: right;\n    }\n</style>\n<table border=\"1\" class=\"dataframe\">\n  <thead>\n    <tr style=\"text-align: right;\">\n      <th></th>\n      <th>LeftEyeForward_x</th>\n      <th>LeftEyeForward_y</th>\n      <th>RightEyeForward_x</th>\n      <th>RightEyeForward_y</th>\n    </tr>\n  </thead>\n  <tbody>\n    <tr>\n      <td>0</td>\n      <td>0.029644</td>\n      <td>-0.071191</td>\n      <td>0.007722</td>\n      <td>-0.069354</td>\n    </tr>\n    <tr>\n      <td>1</td>\n      <td>0.029604</td>\n      <td>-0.071312</td>\n      <td>0.007609</td>\n      <td>-0.069572</td>\n    </tr>\n    <tr>\n      <td>2</td>\n      <td>0.029517</td>\n      <td>-0.071479</td>\n      <td>0.007795</td>\n      <td>-0.069510</td>\n    </tr>\n    <tr>\n      <td>3</td>\n      <td>0.029511</td>\n      <td>-0.071816</td>\n      <td>0.007635</td>\n      <td>-0.069629</td>\n    </tr>\n    <tr>\n      <td>4</td>\n      <td>0.029469</td>\n      <td>-0.071899</td>\n      <td>0.007510</td>\n      <td>-0.069768</td>\n    </tr>\n  </tbody>\n</table>\n</div>"
     },
     "metadata": {},
     "output_type": "execute_result",
     "execution_count": 3
    }
   ],
   "source": [
    "# read in file\n",
    "data = pd.read_csv(file, sep = ';', engine='python', decimal=',')\n",
    "df = data[['LeftEyeForward_x', 'LeftEyeForward_y', 'RightEyeForward_x', 'RightEyeForward_y']]\n",
    "for col in df:\n",
    "    df[col] = pd.to_numeric(df[col], errors='coerce')\n",
    "df.replace(np.nan, 0, regex=True)\n",
    "df.head()\n"
   ],
   "metadata": {
    "collapsed": false,
    "pycharm": {
     "name": "#%%\n",
     "is_executing": false
    }
   }
  },
  {
   "cell_type": "code",
   "execution_count": 4,
   "outputs": [
    {
     "name": "stdout",
     "text": [
      "LeftEyeForward_x     float64\n",
      "LeftEyeForward_y     float64\n",
      "RightEyeForward_x    float64\n",
      "RightEyeForward_y    float64\n",
      "dtype: object\n"
     ],
     "output_type": "stream"
    }
   ],
   "source": [
    "# print column headers and types\n",
    "print(df.dtypes)"
   ],
   "metadata": {
    "collapsed": false,
    "pycharm": {
     "name": "#%%\n",
     "is_executing": false
    }
   }
  },
  {
   "cell_type": "code",
   "execution_count": 5,
   "outputs": [
    {
     "data": {
      "text/plain": "<matplotlib.axes._subplots.AxesSubplot at 0x7fbdacc11c90>"
     },
     "metadata": {},
     "output_type": "execute_result",
     "execution_count": 5
    },
    {
     "data": {
      "text/plain": "<Figure size 432x288 with 1 Axes>",
      "image/png": "[encoded data removed]"
     },
     "metadata": {
      "needs_background": "light"
     },
     "output_type": "display_data"
    }
   ],
   "source": [
    "# for i in range(0, len(df['LeftEyeForward_x'])):\n",
    "#     plt.scatter(x=df['LeftEyeForward_x'][0:i], y=df['LeftEyeForward_y'][0:i])\n",
    "#     plt.pause(0.01)\n",
    "#     plt.show(block=True)\n",
    "# plt.show()\n",
    "df.plot.scatter(x='LeftEyeForward_x', y='LeftEyeForward_y')"
   ],
   "metadata": {
    "collapsed": false,
    "pycharm": {
     "name": "#%%\n",
     "is_executing": false
    }
   }
  },
  {
   "cell_type": "code",
   "execution_count": 6,
   "outputs": [
    {
     "data": {
      "text/plain": "<Figure size 432x288 with 1 Axes>",
      "image/png": "[encoded data removed]"
     },
     "metadata": {
      "needs_background": "light"
     },
     "output_type": "display_data"
    },
    {
     "data": {
      "text/plain": "<Figure size 432x288 with 1 Axes>",
      "image/png": "[encoded data removed]"
     },
     "metadata": {
      "needs_background": "light"
     },
     "output_type": "display_data"
    }
   ],
   "source": [
    "lx = df['LeftEyeForward_x']\n",
    "ly = df['LeftEyeForward_y']\n",
    "\n",
    "# Left Eye x, y\n",
    "l = range(0,len(df['LeftEyeForward_x']))\n",
    "plt.plot(l, lx, 'r', label='x')\n",
    "plt.plot(l, ly, 'b', label='y')\n",
    "plt.title('Left Eye')\n",
    "plt.legend()\n",
    "#plt.fill([3,4,4,3], [2,2,4,4], 'b', alpha=0.2, edgecolor='r')\n",
    "plt.show()\n",
    "\n",
    "rx = df['RightEyeForward_x']\n",
    "ry = df['RightEyeForward_y']\n",
    "\n",
    "# Right Eye x, y\n",
    "r = range(0, len(df['RightEyeForward_x']))\n",
    "plt.plot(r, rx, 'r', label='x')\n",
    "plt.plot(r, ry, 'b', label='y')\n",
    "plt.title('Right Eye')\n",
    "plt.legend()\n",
    "plt.show()"
   ],
   "metadata": {
    "collapsed": false,
    "pycharm": {
     "name": "#%%\n",
     "is_executing": false
    }
   }
  },
  {
   "cell_type": "code",
   "execution_count": 7,
   "outputs": [
    {
     "traceback": [
      "\u001b[0;36m  File \u001b[0;32m\"<ipython-input-7-51f8b0515df7>\"\u001b[0;36m, line \u001b[0;32m7\u001b[0m\n\u001b[0;31m    \u001b[0m\n\u001b[0m    ^\u001b[0m\n\u001b[0;31mSyntaxError\u001b[0m\u001b[0;31m:\u001b[0m unexpected EOF while parsing\n"
     ],
     "ename": "SyntaxError",
     "evalue": "unexpected EOF while parsing (<ipython-input-7-51f8b0515df7>, line 7)",
     "output_type": "error"
    }
   ],
   "source": [
    "# Find fixations and saccades\n",
    "\n",
    "# Method 1: LMS\n",
    "#for i in range(0,l):\n",
    "    \n"
   ],
   "metadata": {
    "collapsed": false,
    "pycharm": {
     "name": "#%%\n",
     "is_executing": false
    }
   }
  },
  {
   "cell_type": "code",
   "execution_count": null,
   "outputs": [],
   "source": [
    "# PLOTTING\n",
    "# https://matplotlib.org/3.1.1/api/_as_gen/matplotlib.pyplot.subplots.html\n",
    "# First create some toy data:\n",
    "x = np.linspace(0, 2*np.pi, 400)\n",
    "y = np.sin(x**2)\n",
    "\n",
    "# Creates just a figure and only one subplot\n",
    "fig, ax = plt.subplots()\n",
    "ax.plot(x, y)\n",
    "ax.set_title('Simple plot')\n",
    "\n",
    "# Creates two subplots and unpacks the output array immediately\n",
    "f, (ax1, ax2) = plt.subplots(1, 2, sharey=True)\n",
    "ax1.plot(x, y)\n",
    "ax1.set_title('Sharing Y axis')\n",
    "ax2.scatter(x, y)\n",
    "\n",
    "# Creates four polar axes, and accesses them through the returned array\n",
    "fig, axes = plt.subplots(2, 2, subplot_kw=dict(polar=True))\n",
    "axes[0, 0].plot(x, y)\n",
    "axes[1, 1].scatter(x, y)\n",
    "\n",
    "# Share a X axis with each column of subplots\n",
    "plt.subplots(2, 2, sharex='col')\n",
    "\n",
    "# Share a Y axis with each row of subplots\n",
    "plt.subplots(2, 2, sharey='row')\n",
    "\n",
    "# Share both X and Y axes with all subplots\n",
    "plt.subplots(2, 2, sharex='all', sharey='all')\n",
    "\n",
    "# Note that this is the same as\n",
    "plt.subplots(2, 2, sharex=True, sharey=True)\n",
    "\n",
    "# Creates figure number 10 with a single subplot\n",
    "# and clears it if it already exists.\n",
    "fig, ax=plt.subplots(num=10, clear=True)"
   ],
   "metadata": {
    "collapsed": false,
    "pycharm": {
     "name": "#%%\n",
     "is_executing": false
    }
   }
  },
  {
   "cell_type": "code",
   "execution_count": null,
   "outputs": [],
   "source": [],
   "metadata": {
    "collapsed": false,
    "pycharm": {
     "name": "#%%\n",
     "is_executing": false
    }
   }
  }
 ],
 "metadata": {
  "kernelspec": {
   "display_name": "Python 3",
   "language": "python",
   "name": "python3"
  },
  "language_info": {
   "codemirror_mode": {
    "name": "ipython",
    "version": 2
   },
   "file_extension": ".py",
   "mimetype": "text/x-python",
   "name": "python",
   "nbconvert_exporter": "python",
   "pygments_lexer": "ipython2",
   "version": "2.7.6"
  },
  "pycharm": {
   "stem_cell": {
    "cell_type": "raw",
    "source": [],
    "metadata": {
     "collapsed": false
    }
   }
  }
 },
 "nbformat": 4,
 "nbformat_minor": 0
}