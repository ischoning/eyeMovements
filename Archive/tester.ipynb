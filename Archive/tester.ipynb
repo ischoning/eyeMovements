{
 "cells": [
  {
   "cell_type": "code",
   "execution_count": 2,
   "metadata": {
    "collapsed": true,
    "pycharm": {
     "is_executing": false,
     "name": "#%%\n"
    }
   },
   "outputs": [],
   "source": [
    "# IMPORTS\n",
    "\n",
    "import pandas as pd\n",
    "from pylab import *\n",
    "import matplotlib.pyplot as plt\n",
    "import numpy as np\n",
    "import scipy.stats as stats\n",
    "import math\n",
    "import matplotlib.transforms as mtransforms\n",
    "import viterbi\n",
    "import baum_welch\n"
   ]
  },
  {
   "cell_type": "code",
   "execution_count": null,
   "outputs": [],
   "source": [
    "# files\n",
    "file = '/Users/ischoning/PycharmProjects/GitHub/data/Nils9_sample_level_clean.csv'\n",
    "\n",
    "# create dataframe\n",
    "df = pd.read_csv(file)"
   ],
   "metadata": {
    "collapsed": false,
    "pycharm": {
     "name": "#%% FILE UPLOAD\n"
    }
   }
  },
  {
   "cell_type": "code",
   "execution_count": null,
   "outputs": [],
   "source": [
    "\n",
    "#print(df.eye_condition.head)\n",
    "#df = df.loc[df.eye_condition.values == df.eye_condition.values[0]]\n",
    "df.eye_condition.values.astype(str)\n",
    "df.scotoma_filter.values.astype(str)\n",
    "# print(sum(df.eye_condition.values == \"None\"))\n",
    "# print(sum(df.eye_condition.values == df.eye_condition.values[0]))\n",
    "# \n",
    "# print(sum(df.scotoma_filter.values == \"None\"))\n",
    "# print(sum(df.scotoma_filter.values == df.scotoma_filter.values[203744]))\n",
    "\n",
    "df = df.loc[df.eye_condition.values == \"None\"]\n",
    "df = df.loc[df.scotoma_filter.values == \"None\"]\n",
    "df = df.loc[df.subject_id.values == df.subject_id.values[0]]\n",
    "\n",
    "print(len(df))\n",
    "print(sum(df.eye_condition.values == \"None\"))\n",
    "print(sum(df.scotoma_filter.values == \"None\"))\n",
    "\n",
    "\n"
   ],
   "metadata": {
    "collapsed": false,
    "pycharm": {
     "name": "#%%\n"
    }
   }
  }
 ],
 "metadata": {
  "kernelspec": {
   "display_name": "Python 3",
   "language": "python",
   "name": "python3"
  },
  "language_info": {
   "codemirror_mode": {
    "name": "ipython",
    "version": 2
   },
   "file_extension": ".py",
   "mimetype": "text/x-python",
   "name": "python",
   "nbconvert_exporter": "python",
   "pygments_lexer": "ipython2",
   "version": "2.7.6"
  },
  "pycharm": {
   "stem_cell": {
    "cell_type": "raw",
    "source": [],
    "metadata": {
     "collapsed": false
    }
   }
  }
 },
 "nbformat": 4,
 "nbformat_minor": 0
}