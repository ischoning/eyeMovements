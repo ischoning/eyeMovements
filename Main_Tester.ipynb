{
 "cells": [
  {
   "cell_type": "code",
   "execution_count": 2,
   "metadata": {
    "collapsed": true,
    "pycharm": {
     "is_executing": false
    }
   },
   "outputs": [],
   "source": [
    "# import sys\n",
    "# sys.path.insert(1, \"/Users/ischoning/PycharmProjects/eyeMovements/eventdetect-master\")\n",
    "import pandas as pd\n",
    "from pylab import *\n",
    "import matplotlib.pyplot as plt\n",
    "from mpl_toolkits import mplot3d\n",
    "import numpy as np\n",
    "import scipy.stats as stats\n",
    "import math\n",
    "import matplotlib.transforms as mtransforms\n",
    "import viterbi\n",
    "import baum_welch\n",
    "from scipy.interpolate import make_interp_spline, BSpline\n",
    "import h5py"
   ]
  },
  {
   "cell_type": "code",
   "execution_count": 4,
   "outputs": [
    {
     "data": {
      "text/plain": "<Figure size 432x288 with 1 Axes>",
      "image/png": "[encoded data removed]"
     },
     "metadata": {
      "needs_background": "light"
     },
     "output_type": "display_data"
    }
   ],
   "source": [
    "file = '/Users/ischoning/PycharmProjects/GitHub/data/hdf5/events_1_eyelink/data_collection_events_eyetracker_MonocularEyeSampleEvent.csv'\n",
    "df = pd.read_csv(file,sep=\";\")\n",
    "#print(df.dtypes)\n",
    "df = df[:4000]\n",
    "plt.scatter(df['ppd_x'],df['ppd_y'])\n",
    "plt.show()"
   ],
   "metadata": {
    "collapsed": false,
    "pycharm": {
     "name": "#%%\n",
     "is_executing": false
    }
   }
  },
  {
   "cell_type": "code",
   "execution_count": null,
   "outputs": [],
   "source": [
    "# files\n",
    "#file = '/Users/ischoning/PycharmProjects/GitHub/data/dpi_events_1.npy'\n",
    "file = '/Users/ischoning/PycharmProjects/GitHub/data/hdf5/events_145/data_collection_events_eyetracker_BinocularEyeSampleEvent.csv'\n",
    "\n",
    "# create dataframe\n",
    "df = pd.read_csv(file, sep=\";\", float_precision=None)\n",
    "# df = df[['time', 'device_time', 'left_pupil_measure1', 'right_pupil_measure1', 'right_gaze_x',\n",
    "#          'right_gaze_y', 'left_angle_x', 'left_angle_y', 'right_angle_x', 'right_angle_y']]\n",
    "\n",
    "# df = df[['time', 'dt', 'device_time', 'left_pupil_measure1', 'right_pupil_measure1', 'target_angle_x', 'target_angle_y', 'right_gaze_x',\n",
    "#          'right_gaze_y', 'left_angle_x', 'left_angle_y', 'right_angle_x', 'right_angle_y']]\n",
    "print(len(df))\n",
    "print(df.dtypes)\n",
    "\n",
    "print(df.device_time[2]-df.device_time[1])\n",
    "print(df.time[2]-df.time[1])\n",
    "print(df.logged_time[2]-df.logged_time[1])\n",
    "\n",
    "df = df[['time', 'left_ppd_x', 'right_ppd_x', 'left_ppd_y', 'right_ppd_y', 'left_velocity_x',\n",
    "         'left_velocity_y', 'right_velocity_x', 'right_velocity_y', 'left_velocity_xy',\n",
    "         'right_velocity_xy', 'left_angle_x', 'left_angle_y', 'right_angle_x', 'right_angle_y',\n",
    "         'left_pupil_measure1', 'right_pupil_measure1']]"
   ],
   "metadata": {
    "collapsed": false,
    "pycharm": {
     "name": "#%%\n"
    }
   }
  },
  {
   "cell_type": "code",
   "execution_count": 7,
   "outputs": [
    {
     "name": "stdout",
     "text": [
      "0.0\n"
     ],
     "output_type": "stream"
    }
   ],
   "source": [
    "print(np.sum(df.left_angle_x))\n"
   ],
   "metadata": {
    "collapsed": false,
    "pycharm": {
     "name": "#%%\n",
     "is_executing": false
    }
   }
  },
  {
   "cell_type": "code",
   "execution_count": 3,
   "outputs": [
    {
     "name": "stdout",
     "text": [
      "   Unnamed: 0  experiment_id  session_id  device_id  event_id  type  \\\n",
      "0           0              1           1          0       265    51   \n",
      "1           1              1           1          0       266    51   \n",
      "2           2              1           1          0       267    51   \n",
      "3           3              1           1          0       268    51   \n",
      "4           4              1           1          0       269    51   \n",
      "\n",
      "   device_time  logged_time       time  confidence_interval  ...  \\\n",
      "0    10309.494    299.74136  299.69138             0.015631  ...   \n",
      "1    10309.495    299.74140  299.69238             0.015631  ...   \n",
      "2    10309.496    299.74140  299.69340             0.015631  ...   \n",
      "3    10309.497    299.74140  299.69440             0.015631  ...   \n",
      "4    10309.498    299.74142  299.69540             0.015631  ...   \n",
      "\n",
      "   pupil_measure1  pupil_measure1_type  pupil_measure2  pupil_measure2_type  \\\n",
      "0          2644.0                   70             0.0                    0   \n",
      "1          2634.0                   70             0.0                    0   \n",
      "2          2634.0                   70             0.0                    0   \n",
      "3          2633.0                   70             0.0                    0   \n",
      "4          2634.0                   70             0.0                    0   \n",
      "\n",
      "   ppd_x  ppd_y  velocity_x  velocity_y  velocity_xy  status  \n",
      "0   41.5   41.5        -1.0        -1.0         -1.0       0  \n",
      "1   41.5   41.5        -1.0        -1.0         -1.0       0  \n",
      "2   41.5   41.5        -1.0        -1.0         -1.0       0  \n",
      "3   41.5   41.5        -1.0        -1.0         -1.0       0  \n",
      "4   41.5   41.5        -1.0        -1.0         -1.0       0  \n",
      "\n",
      "[5 rows x 33 columns]\n",
      "161520\n",
      "Unnamed: 0               int64\n",
      "experiment_id            int64\n",
      "session_id               int64\n",
      "device_id                int64\n",
      "event_id                 int64\n",
      "type                     int64\n",
      "device_time            float64\n",
      "logged_time            float64\n",
      "time                   float64\n",
      "confidence_interval    float64\n",
      "delay                  float64\n",
      "filter_id                int64\n",
      "eye                      int64\n",
      "gaze_x                 float64\n",
      "gaze_y                 float64\n",
      "gaze_z                 float64\n",
      "eye_cam_x              float64\n",
      "eye_cam_y              float64\n",
      "eye_cam_z              float64\n",
      "angle_x                float64\n",
      "angle_y                float64\n",
      "raw_x                  float64\n",
      "raw_y                  float64\n",
      "pupil_measure1         float64\n",
      "pupil_measure1_type      int64\n",
      "pupil_measure2         float64\n",
      "pupil_measure2_type      int64\n",
      "ppd_x                  float64\n",
      "ppd_y                  float64\n",
      "velocity_x             float64\n",
      "velocity_y             float64\n",
      "velocity_xy            float64\n",
      "status                   int64\n",
      "dtype: object\n",
      "intersample device_time 0.0009999999983847374\n",
      "intersample time: 0.0010200000000395448\n",
      "intersample logged_time: 0.0\n",
      "        time  status     gaze_x     gaze_y  gaze_z  pupil_measure1\n",
      "0  299.69138       0  39.400024  36.799988     0.0          2644.0\n",
      "1  299.69238       0  41.599976  34.799988     0.0          2634.0\n",
      "2  299.69340       0  42.000000  26.200012     0.0          2634.0\n",
      "3  299.69440       0  41.700012  26.200012     0.0          2633.0\n",
      "4  299.69540       0  41.599976  24.399994     0.0          2634.0\n"
     ],
     "output_type": "stream"
    }
   ],
   "source": [
    "file = '/Users/ischoning/PycharmProjects/GitHub/data/hdf5/events_58/data_collection_events_eyetracker_MonocularEyeSampleEvent.csv'\n",
    "df = pd.read_csv(file, sep=\";\", float_precision=None)\n",
    "\n",
    "#print(np.unique(df.eye))\n",
    "print(df.head())\n",
    "\n",
    "print(len(df))\n",
    "print(df.dtypes)\n",
    "\n",
    "print(\"intersample device_time\", df.device_time[2]-df.device_time[1])\n",
    "print(\"intersample time:\", df.time[2]-df.time[1])\n",
    "print(\"intersample logged_time:\", df.logged_time[2] - df.logged_time[1])\n",
    "\n",
    "df = df[['time', 'status', 'gaze_x', 'gaze_y', 'gaze_z', 'pupil_measure1']]\n",
    "\n",
    "print(df.head())"
   ],
   "metadata": {
    "collapsed": false,
    "pycharm": {
     "name": "#%%\n",
     "is_executing": false
    }
   }
  },
  {
   "cell_type": "code",
   "execution_count": 3,
   "outputs": [
    {
     "name": "stdout",
     "text": [
      "13086\n"
     ],
     "output_type": "stream"
    }
   ],
   "source": [
    "# print(len(df))\n",
    "# print(df.columns.values)\n",
    "# print(df.dtypes)\n",
    "# print(df.time.head())\n",
    "# print(df.dt.head())\n",
    "# print(df.device_time.head())  # same as time"
   ],
   "metadata": {
    "collapsed": false,
    "pycharm": {
     "name": "#%%\n",
     "is_executing": false
    }
   }
  },
  {
   "cell_type": "code",
   "execution_count": 12,
   "outputs": [],
   "source": [
    "# sample rate: 100 samples per sec\n",
    "df = df[:1000]\n",
    "\n",
    "plt.scatter(df.right_angle_x, df.right_angle_y, label='sample', s = 0.5)\n",
    "#plt.scatter(df.target_angle_x, df.target_angle_y, color='red', label='target')\n",
    "plt.title('Right Eye Position')\n",
    "plt.xlabel('x (deg)')\n",
    "plt.ylabel('y (deg)')\n",
    "plt.legend()\n",
    "plt.show()"
   ],
   "metadata": {
    "collapsed": false,
    "pycharm": {
     "name": "#%%\n",
     "is_executing": false
    }
   }
  },
  {
   "cell_type": "code",
   "execution_count": 5,
   "outputs": [
    {
     "name": "stdout",
     "text": [
      "13042\n"
     ],
     "output_type": "stream"
    }
   ],
   "source": [
    "df.replace([np.inf, -np.inf], np.nan)\n",
    "df.dropna(inplace=True)\n",
    "\n",
    "print(len(df))"
   ],
   "metadata": {
    "collapsed": false,
    "pycharm": {
     "name": "#%% Remove NA's\n",
     "is_executing": false
    }
   }
  },
  {
   "cell_type": "code",
   "execution_count": 6,
   "outputs": [
    {
     "name": "stdout",
     "text": [
      "0    8.568000\n",
      "1    0.010000\n",
      "2    0.010000\n",
      "3    0.009999\n",
      "4    0.010000\n",
      "Name: isi, dtype: float64\n"
     ],
     "output_type": "stream"
    }
   ],
   "source": [
    "del_x_r = np.diff(df.right_angle_x, prepend=0)\n",
    "del_y_r = np.diff(df.right_angle_y, prepend=0)\n",
    "df['d_r'] = np.sqrt(del_x_r ** 2 + del_y_r ** 2)\n",
    "\n",
    "del_x_l = np.diff(df.left_angle_x, prepend=0)\n",
    "del_y_l = np.diff(df.left_angle_y, prepend=0)\n",
    "df['d_l'] = np.sqrt(del_x_l ** 2 + del_y_l ** 2)\n",
    "\n",
    "df['isi'] = np.diff(df.time, prepend=0)\n",
    "print(df.isi.head())\n",
    "\n",
    "df['vel_r'] = df.d_r / df.isi\n",
    "df['vel_l'] = df.d_l / df.isi\n",
    "\n",
    "del_vel_r = np.diff(df.vel_r, prepend=0)\n",
    "del_vel_l = np.diff(df.vel_l, prepend=0)\n",
    "\n",
    "df['accel_r'] = abs(del_vel_r) / df.isi\n",
    "df['accel_l'] = abs(del_vel_l) / df.isi\n",
    "\n",
    "del_accel_r = np.diff(df.accel_r, prepend=0)\n",
    "del_accel_l = np.diff(df.accel_l, prepend=0)\n",
    "\n",
    "df['jolt_r'] = del_accel_r / df.isi\n",
    "df['jolt_l'] = del_accel_l / df.isi\n",
    "\n",
    "# remove the first three datapoints (due to intersample calculations)\n",
    "df = df[3:]\n",
    "df.reset_index(drop=True, inplace=True)"
   ],
   "metadata": {
    "collapsed": false,
    "pycharm": {
     "name": "#%% Calculate amplitude, velocity, acceleration, change in acceleration (jolt)\n",
     "is_executing": false
    }
   }
  },
  {
   "cell_type": "code",
   "execution_count": 7,
   "outputs": [],
   "source": [
    "# left eye\n",
    "#interactive plotting in separate window\n",
    "%matplotlib qt \n",
    "fig = plt.figure(figsize=(10, 7))\n",
    "ax = plt.axes(projection=\"3d\")\n",
    "ax.scatter3D(df.d_l, df.vel_l, df.accel_l, s = 0.5, color=\"green\")\n",
    "plt.title(\"Left: Amp vs Vel vs Accel\")\n",
    "plt.show()"
   ],
   "metadata": {
    "collapsed": false,
    "pycharm": {
     "name": "#%% 3D plots\n",
     "is_executing": false
    }
   }
  },
  {
   "cell_type": "code",
   "execution_count": null,
   "outputs": [],
   "source": [
    "# right eye\n",
    "fig = plt.figure(figsize=(10, 7))\n",
    "ax = plt.axes(projection=\"3d\")\n",
    "ax.scatter3D(df.d_r, df.vel_r, df.accel_r, s = 0.5, color=\"green\")\n",
    "plt.title(\"Right: Amp vs Vel vs Accel\")\n",
    "plt.show()"
   ],
   "metadata": {
    "collapsed": false,
    "pycharm": {
     "name": "#%%\n"
    }
   }
  },
  {
   "cell_type": "code",
   "execution_count": null,
   "outputs": [],
   "source": [
    "#normal charts inside notebooks (back to html)\n",
    "%matplotlib inline "
   ],
   "metadata": {
    "collapsed": false,
    "pycharm": {
     "name": "#%%\n"
    }
   }
  },
  {
   "cell_type": "code",
   "execution_count": 7,
   "outputs": [
    {
     "data": {
      "text/plain": "<Figure size 432x288 with 1 Axes>",
      "image/png": "[encoded data removed]"
     },
     "metadata": {
      "needs_background": "light"
     },
     "output_type": "display_data"
    },
    {
     "data": {
      "text/plain": "<Figure size 432x288 with 1 Axes>",
      "image/png": "[encoded data removed]"
     },
     "metadata": {
      "needs_background": "light"
     },
     "output_type": "display_data"
    },
    {
     "data": {
      "text/plain": "<Figure size 432x288 with 1 Axes>",
      "image/png": "[encoded data removed]"
     },
     "metadata": {
      "needs_background": "light"
     },
     "output_type": "display_data"
    },
    {
     "data": {
      "text/plain": "<Figure size 432x288 with 1 Axes>",
      "image/png": "[encoded data removed]"
     },
     "metadata": {
      "needs_background": "light"
     },
     "output_type": "display_data"
    }
   ],
   "source": [
    "# left eye\n",
    "plt.scatter(df.d_l, df.vel_l)\n",
    "#plt.plot(df.d_l, 21 + 2.2*df.d_l, label = 'Carpenters Thm: D = 21 + 2.2*A')\n",
    "plt.title('Left Eye: Amplitude vs Velocity')\n",
    "plt.xlabel('deg')\n",
    "plt.ylabel('deg/s')\n",
    "plt.show()\n",
    "plt.scatter(df.vel_l, df.accel_l)\n",
    "plt.title('Left Eye: Velocity vs Acceleration')\n",
    "plt.xlabel('deg/s')\n",
    "plt.ylabel('deg/s^2')\n",
    "plt.show()\n",
    "\n",
    "# right eye\n",
    "plt.scatter(df.d_r, df.vel_r)\n",
    "#plt.plot(df.d_r, 21 + 2.2*df.d_r, label = 'Carpenters Thm: D = 21 + 2.2*A')\n",
    "plt.title('Left Eye: Amplitude vs Velocity')\n",
    "plt.xlabel('deg')\n",
    "plt.ylabel('deg/s')\n",
    "plt.show()\n",
    "plt.scatter(df.vel_r, df.accel_r)\n",
    "plt.title('Left Eye: Velocity vs Acceleration')\n",
    "plt.xlabel('deg/s')\n",
    "plt.ylabel('deg/s^2')\n",
    "plt.show()"
   ],
   "metadata": {
    "collapsed": false,
    "pycharm": {
     "name": "#%% Check correlation relations between variables\n",
     "is_executing": false
    }
   }
  },
  {
   "cell_type": "code",
   "execution_count": null,
   "outputs": [
    {
     "name": "stdout",
     "text": [
      "       0      1      2      3      4      5      6      7      8      9      \\\n",
      "0        1.0    1.0    1.0    1.0    1.0    1.0    1.0    1.0    1.0    1.0   \n",
      "1        1.0    1.0    1.0    1.0    1.0    1.0    1.0    1.0    1.0    1.0   \n",
      "2        1.0    1.0    1.0    1.0    1.0    1.0    1.0    1.0    1.0    1.0   \n",
      "3        1.0    1.0    1.0    1.0    1.0    1.0    1.0    1.0    1.0    1.0   \n",
      "4        1.0    1.0    1.0    1.0    1.0    1.0    1.0    1.0    1.0    1.0   \n",
      "...      ...    ...    ...    ...    ...    ...    ...    ...    ...    ...   \n",
      "13034    1.0    1.0    1.0    1.0    1.0    1.0    1.0    1.0    1.0    1.0   \n",
      "13035    1.0    1.0    1.0    1.0    1.0    1.0    1.0    1.0    1.0    1.0   \n",
      "13036    1.0    1.0    1.0    1.0    1.0    1.0    1.0    1.0    1.0    1.0   \n",
      "13037    1.0    1.0    1.0    1.0    1.0    1.0    1.0    1.0    1.0    1.0   \n",
      "13038    1.0    1.0    1.0    1.0    1.0    1.0    1.0    1.0    1.0    1.0   \n",
      "\n",
      "       ...  13029  13030  13031  13032  13033  13034  13035  13036  13037  \\\n",
      "0      ...    1.0    1.0    1.0    1.0    1.0    1.0    1.0    1.0    1.0   \n",
      "1      ...    1.0    1.0    1.0    1.0    1.0    1.0    1.0    1.0    1.0   \n",
      "2      ...    1.0    1.0    1.0    1.0    1.0    1.0    1.0    1.0    1.0   \n",
      "3      ...    1.0    1.0    1.0    1.0    1.0    1.0    1.0    1.0    1.0   \n",
      "4      ...    1.0    1.0    1.0    1.0    1.0    1.0    1.0    1.0    1.0   \n",
      "...    ...    ...    ...    ...    ...    ...    ...    ...    ...    ...   \n",
      "13034  ...    1.0    1.0    1.0    1.0    1.0    1.0    1.0    1.0    1.0   \n",
      "13035  ...    1.0    1.0    1.0    1.0    1.0    1.0    1.0    1.0    1.0   \n",
      "13036  ...    1.0    1.0    1.0    1.0    1.0    1.0    1.0    1.0    1.0   \n",
      "13037  ...    1.0    1.0    1.0    1.0    1.0    1.0    1.0    1.0    1.0   \n",
      "13038  ...    1.0    1.0    1.0    1.0    1.0    1.0    1.0    1.0    1.0   \n",
      "\n",
      "       13038  \n",
      "0        1.0  \n",
      "1        1.0  \n",
      "2        1.0  \n",
      "3        1.0  \n",
      "4        1.0  \n",
      "...      ...  \n",
      "13034    1.0  \n",
      "13035    1.0  \n",
      "13036    1.0  \n",
      "13037    1.0  \n",
      "13038    1.0  \n",
      "\n",
      "[13039 rows x 13039 columns]\n",
      "       0      1      2      3      4      5      6      7      8      9      \\\n",
      "0        1.0    1.0    1.0    1.0    1.0    1.0    1.0    1.0    1.0    1.0   \n",
      "1        1.0    1.0    1.0    1.0    1.0    1.0    1.0    1.0    1.0    1.0   \n",
      "2        1.0    1.0    1.0    1.0    1.0    1.0    1.0    1.0    1.0    1.0   \n",
      "3        1.0    1.0    1.0    1.0    1.0    1.0    1.0    1.0    1.0    1.0   \n",
      "4        1.0    1.0    1.0    1.0    1.0    1.0    1.0    1.0    1.0    1.0   \n",
      "...      ...    ...    ...    ...    ...    ...    ...    ...    ...    ...   \n",
      "13034    1.0    1.0    1.0    1.0    1.0    1.0    1.0    1.0    1.0    1.0   \n",
      "13035    1.0    1.0    1.0    1.0    1.0    1.0    1.0    1.0    1.0    1.0   \n",
      "13036    1.0    1.0    1.0    1.0    1.0    1.0    1.0    1.0    1.0    1.0   \n",
      "13037    1.0    1.0    1.0    1.0    1.0    1.0    1.0    1.0    1.0    1.0   \n",
      "13038    1.0    1.0    1.0    1.0    1.0    1.0    1.0    1.0    1.0    1.0   \n",
      "\n",
      "       ...  13029  13030  13031  13032  13033  13034  13035  13036  13037  \\\n",
      "0      ...    1.0    1.0    1.0    1.0    1.0    1.0    1.0    1.0    1.0   \n",
      "1      ...    1.0    1.0    1.0    1.0    1.0    1.0    1.0    1.0    1.0   \n",
      "2      ...    1.0    1.0    1.0    1.0    1.0    1.0    1.0    1.0    1.0   \n",
      "3      ...    1.0    1.0    1.0    1.0    1.0    1.0    1.0    1.0    1.0   \n",
      "4      ...    1.0    1.0    1.0    1.0    1.0    1.0    1.0    1.0    1.0   \n",
      "...    ...    ...    ...    ...    ...    ...    ...    ...    ...    ...   \n",
      "13034  ...    1.0    1.0    1.0    1.0    1.0    1.0    1.0    1.0    1.0   \n",
      "13035  ...    1.0    1.0    1.0    1.0    1.0    1.0    1.0    1.0    1.0   \n",
      "13036  ...    1.0    1.0    1.0    1.0    1.0    1.0    1.0    1.0    1.0   \n",
      "13037  ...    1.0    1.0    1.0    1.0    1.0    1.0    1.0    1.0    1.0   \n",
      "13038  ...    1.0    1.0    1.0    1.0    1.0    1.0    1.0    1.0    1.0   \n",
      "\n",
      "       13038  \n",
      "0        1.0  \n",
      "1        1.0  \n",
      "2        1.0  \n",
      "3        1.0  \n",
      "4        1.0  \n",
      "...      ...  \n",
      "13034    1.0  \n",
      "13035    1.0  \n",
      "13036    1.0  \n",
      "13037    1.0  \n",
      "13038    1.0  \n",
      "\n",
      "[13039 rows x 13039 columns]\n"
     ],
     "output_type": "stream"
    }
   ],
   "source": [
    "# prep for correlation between pupil sizes (left and right)\n",
    "corr_df = pd.DataFrame((df.left_pupil_measure1, df.right_pupil_measure1))\n",
    "pe_corr = corr_df.corr('pearson')\n",
    "sp_corr = corr_df.corr('spearman')\n",
    "print(pe_corr)\n",
    "print(sp_corr)\n",
    "\n",
    "# prep for correlation between amplitude and veloctiy\n",
    "corr_df = pd.DataFrame((df.d_r, df.vel_r)) \n",
    "pe_corr = corr_df.corr('pearson')\n",
    "sp_corr = corr_df.corr('spearman')\n",
    "print(pe_corr)\n",
    "print(sp_corr)"
   ],
   "metadata": {
    "collapsed": false,
    "pycharm": {
     "name": "#%% compute pairwise correlation matrix for review\n",
     "is_executing": true
    }
   }
  },
  {
   "cell_type": "code",
   "execution_count": null,
   "outputs": [],
   "source": [
    "\n",
    "print(np.sum(np.where(df.left_pupil_measure1 == 0)))\n",
    "print(np.sum(np.where(df.right_pupil_measure1 == 0)))\n",
    "print(np.sum(np.where(df.vel_l == 0)))\n",
    "print(np.sum(np.where(df.vel_r == 0)))\n",
    "print('-------------')\n",
    "print('Correlation:')\n",
    "# scores are between -1 and 1 for perfectly negatively correlated variables and\n",
    "# perfectly positively correlated respectively (+- 0.5 is good threshold)\n",
    "\n",
    "# pearson correlation\n",
    "# Assumes Gaussian distribution of the data.\n",
    "print(stats.pearsonr(df.d_l, df.vel_l))\n",
    "print(stats.pearsonr(df.d_r, df.vel_r))\n",
    "print(stats.pearsonr(df.vel_l, df.accel_l))\n",
    "print(stats.pearsonr(df.vel_r, df.accel_r))\n",
    "\n",
    "# spearman correlation (non-parametric rank-based approach)\n",
    "# does not assume linear relation or gaussian distribution (also monotonic relation assumed)\n",
    "print(stats.spearmanr(df.d_l, df.vel_l))\n",
    "print(stats.spearmanr(df.d_r, df.vel_r))\n",
    "print(stats.spearmanr(df.vel_l, df.accel_l))\n",
    "print(stats.spearmanr(df.vel_r, df.accel_r))\n",
    "\"\"\"\n",
    "\n",
    "print('-------------')\n",
    "\n",
    "bad_data = []\n",
    "cond_1, cond_2, cond_3, cond_4, cond_5 = 0, 0, 0, 0, 0\n",
    "for i in range(len(df)):\n",
    "    d_l = df.d_l[i]\n",
    "    d_r = df.d_r[i]\n",
    "    vel_l = df.vel_l[i]\n",
    "    vel_r = df.vel_r[i]\n",
    "    accel_l = df.accel_l[i]\n",
    "    accel_r = df.accel_r[i]\n",
    "    pupil_l = df.left_pupil_measure1[i]\n",
    "    pupil_r = df.right_pupil_measure1[i]\n",
    "    \n",
    "    print('cond_1:')\n",
    "    print('    pupil_l:', pupil_l)\n",
    "    print('    pupil_r:', pupil_r)\n",
    "    print('cond_2:')\n",
    "    print('    abs(pupil_l - pupil_r):', abs(pupil_l - pupil_r))\n",
    "    print('cond_3:')\n",
    "    print('    vel_l:', vel_l)\n",
    "    print('    vel_r:', vel_r)\n",
    "    print('cond_4:')\n",
    "    print('    abs(vel_l - 21 - 2.2*d_l):', abs(vel_l - 21 - 2.2*d_l))\n",
    "    print('    abs(vel_r - 21 - 2.2*d_r):', abs(vel_r - 21 - 2.2*d_r))\n",
    "    print('cond_5:')\n",
    "    print('    abs(accel_l - 21 - 2.2*vel_l):', abs(accel_l - 21 - 2.2*vel_l))\n",
    "    print('    abs(accel_r - 21 - 2.2*vel_r):', abs(accel_r - 21 - 2.2*vel_r))\n",
    "    print('correlation:')\n",
    "    print('    spearmanr(d_l, vel_l):', stats.spearmanr(d_l, vel_l))\n",
    "    print('    spearmanr(d_r, vel_r):', stats.spearmanr(d_r, vel_r))\n",
    "    print('    spearmanr(vel_l, accel_l):', stats.spearmanr(vel_l, accel_l))\n",
    "    print('    spearmanr(vel_r, accel_r):', stats.spearmanr(vel_r, accel_r))\n",
    "    \n",
    "    # no pupil size?\n",
    "    if pupil_l == 0 or pupil_l == None or pupil_r == 0 or pupil_r == None:\n",
    "        bad_data.append(i)\n",
    "        cond_1 += 1\n",
    "    \n",
    "    # pupil size correlated?\n",
    "    elif abs(pupil_l - pupil_r) > 0.01:\n",
    "        bad_data.append(i)\n",
    "        cond_2 += 1\n",
    "    \n",
    "    # angular velocity greater than 1000 deg/s?\n",
    "    elif vel_r > 1000 or vel_r == 0 or vel_l > 1000 or vel_l == 0:\n",
    "        bad_data.append(i)\n",
    "        cond_3 += 1\n",
    "    \n",
    "    # correlation between amplitude of movement and velocity agrees with\n",
    "    # Carpenter's Theorem: D = 21 + 2.2A where D~deg/ms, A~deg traversed (+- 0.1)\n",
    "    elif abs(vel_l - 21 - 2.2*d_l) > 1 or abs(vel_r - 21 - 2.2*d_r) > 1:\n",
    "        bad_data.append(i)\n",
    "        cond_4 += 1\n",
    "    \n",
    "    # changes of direction in velocity during saccade (velocity and acceleration correlated)\n",
    "    elif abs(accel_l - 21 - 2.2*vel_l) > 1 or abs(accel_r - 21 - 2.2*vel_r) > 1:\n",
    "        bad_data.append(i)\n",
    "        cond_5 += 1\n",
    "        \n",
    "#df.drop(index = bad_data, inplace = True)\n",
    "#df.reset_index(drop=True, inplace=True)\n",
    "\n",
    "print(\"Number of datapoints with no pupil size:\", cond_1)\n",
    "print(\"Number of datapoints with uncorrelated pupil sizes:\", cond_2)\n",
    "print(\"Number of datapoints with intersample velocity equal to zero or greater than 1000 deg/ms:\", cond_3)\n",
    "print(\"Number of datapoints with no correlation (cov=0?) between displacement and velocity:\", cond_4)\n",
    "print(\"Number of datapoints with no correlation (cov-0?) between velocity and acceleration:\", cond_5)\n",
    "\n",
    "#df = df.iloc[1:]\n",
    "\"\"\""
   ],
   "metadata": {
    "collapsed": false,
    "pycharm": {
     "name": "#%% Clean data by eye physiology\n",
     "is_executing": true
    }
   }
  },
  {
   "cell_type": "code",
   "execution_count": null,
   "outputs": [],
   "source": [
    "\"\"\"\n",
    "plt.figure(figsize=(18, 6)) # In Matplotlib all the diagrams are created at a default size of 6.4 x 4.8 inches.\n",
    "plt.plot(df.time, df.d)\n",
    "plt.title('Displacement')\n",
    "plt.xlabel('time (ms)')\n",
    "plt.ylabel('dispersion (deg)')\n",
    "plt.show()\n",
    "\n",
    "plt.figure(figsize=(18, 6)) # In Matplotlib all the diagrams are created at a default size of 6.4 x 4.8 inches.\n",
    "plt.plot(df.time, df.vel)\n",
    "plt.title('Velocity')\n",
    "plt.xlabel('time (ms)')\n",
    "plt.ylabel('velocity (deg/s)')\n",
    "plt.show()\n",
    "\n",
    "plt.figure(figsize=(18, 6)) # In Matplotlib all the diagrams are created at a default size of 6.4 x 4.8 inches.\n",
    "plt.plot(df.time, df.accel)\n",
    "plt.title('Acceleration')\n",
    "plt.xlabel('time (ms)')\n",
    "plt.ylabel('acceleration (deg/s*s)')\n",
    "plt.show()\n",
    "\n",
    "fig = plt.figure(figsize=(18, 6)) # In Matplotlib all the diagrams are created at a default size of 6.4 x 4.8 inches.\n",
    "grid = plt.GridSpec(4, 4, hspace=0.5, wspace=0.2)\n",
    "\n",
    "# Define the axes\n",
    "ax_main = fig.add_subplot(grid[:-1, :-1])\n",
    "ax_right = fig.add_subplot(grid[:-1, -1], xticklabels=[], yticklabels=[])\n",
    "ax_bottom = fig.add_subplot(grid[-1, 0:-1], xticklabels=[], yticklabels=[])\n",
    "\n",
    "# Scatterplot on main ax\n",
    "ax_main.scatter(df.d, df.vel)\n",
    "\n",
    "# histogram on the right\n",
    "ax_bottom.hist(df.d, 30, histtype='stepfilled', orientation='vertical', color='deeppink')\n",
    "ax_bottom.invert_yaxis()\n",
    "\n",
    "# histogram in the bottom\n",
    "ax_right.hist(df.vel, 30, histtype='stepfilled', orientation='horizontal', color='deeppink')\n",
    "\n",
    "ax_main.set(title='Amplitude vs Velocity', xlabel ='displacement (deg)', ylabel ='velocity (deg/ms)')\n",
    "plt.show()\n",
    "\"\"\""
   ],
   "metadata": {
    "collapsed": false,
    "pycharm": {
     "name": "#%%\n",
     "is_executing": true
    }
   }
  },
  {
   "cell_type": "code",
   "execution_count": null,
   "outputs": [],
   "source": [],
   "metadata": {
    "collapsed": false,
    "pycharm": {
     "name": "#%%\n",
     "is_executing": true
    }
   }
  },
  {
   "cell_type": "code",
   "execution_count": null,
   "outputs": [],
   "source": [],
   "metadata": {
    "collapsed": false,
    "pycharm": {
     "name": "#%%\n",
     "is_executing": true
    }
   }
  }
 ],
 "metadata": {
  "kernelspec": {
   "display_name": "Python 3",
   "language": "python",
   "name": "python3"
  },
  "language_info": {
   "codemirror_mode": {
    "name": "ipython",
    "version": 2
   },
   "file_extension": ".py",
   "mimetype": "text/x-python",
   "name": "python",
   "nbconvert_exporter": "python",
   "pygments_lexer": "ipython2",
   "version": "2.7.6"
  },
  "pycharm": {
   "stem_cell": {
    "cell_type": "raw",
    "source": [],
    "metadata": {
     "collapsed": false
    }
   }
  }
 },
 "nbformat": 4,
 "nbformat_minor": 0
}