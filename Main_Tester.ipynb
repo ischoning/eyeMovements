{
 "cells": [
  {
   "cell_type": "code",
   "execution_count": 8,
   "metadata": {
    "collapsed": true,
    "pycharm": {
     "is_executing": false
    }
   },
   "outputs": [],
   "source": [
    "# import sys\n",
    "# sys.path.insert(1, \"/Users/ischoning/PycharmProjects/eyeMovements/eventdetect-master\")\n",
    "import pandas as pd\n",
    "from pylab import *\n",
    "import matplotlib.pyplot as plt\n",
    "from mpl_toolkits import mplot3d\n",
    "import numpy as np\n",
    "import scipy.stats as stats\n",
    "import math\n",
    "import matplotlib.transforms as mtransforms\n",
    "import viterbi\n",
    "import baum_welch\n",
    "from scipy.interpolate import make_interp_spline, BSpline\n",
    "import h5py"
   ]
  },
  {
   "cell_type": "code",
   "execution_count": 15,
   "outputs": [
    {
     "name": "stdout",
     "text": [
      "52102\n",
      "subject_id                   uint16\n",
      "display_refresh_rate          uint8\n",
      "eyetracker_model             object\n",
      "dot_deg_sz                  float32\n",
      "eyetracker_sampling_rate    float32\n",
      "eyetracker_mode              object\n",
      "fix_stim_center_size_pix      uint8\n",
      "operator                     object\n",
      "et_model                     object\n",
      "display_width_pix            uint16\n",
      "display_height_pix           uint16\n",
      "exp_date                     object\n",
      "screen_width                float32\n",
      "screen_height               float32\n",
      "eye_distance                float32\n",
      "SESSION_ID                    uint8\n",
      "trial_id                     uint16\n",
      "TRIAL_START                 float32\n",
      "TRIAL_END                   float32\n",
      "posx                        float32\n",
      "posy                        float32\n",
      "dt                          float32\n",
      "ROW_INDEX                     uint8\n",
      "BLOCK                        object\n",
      "session_id                    uint8\n",
      "device_time                 float32\n",
      "time                        float32\n",
      "left_gaze_x                 float32\n",
      "left_gaze_y                 float32\n",
      "left_pupil_measure1         float32\n",
      "right_gaze_x                float32\n",
      "right_gaze_y                float32\n",
      "right_pupil_measure1        float32\n",
      "status                        uint8\n",
      "target_angle_x              float32\n",
      "target_angle_y              float32\n",
      "left_angle_x                float32\n",
      "left_angle_y                float32\n",
      "right_angle_x               float32\n",
      "right_angle_y               float32\n",
      "dtype: object\n"
     ],
     "output_type": "stream"
    }
   ],
   "source": [
    "# files\n",
    "file = '/Users/ischoning/PycharmProjects/GitHub/data/dpi_events_1.npy'\n",
    "# \n",
    "# f = h5py.File(hdf1, 'r')\n",
    "# \n",
    "# print(list(f['data_collection']['experiment_meta_data']))\n",
    "# print(list(f['data_collection']['experiment_meta_data'].attrs['CLASS']))\n",
    "# ds = f['data_collection']\n",
    "\n",
    "# create dataframe\n",
    "file = np.load(file)\n",
    "df = pd.DataFrame(file)\n",
    "#df = pd.read_csv(file, sep=\"\\t\", float_precision=None)\n",
    "# df = df[['time', 'dt', 'device_time', 'left_pupil_measure1', 'right_pupil_measure1', 'target_angle_x', 'target_angle_y', 'right_gaze_x',\n",
    "#          'right_gaze_y', 'left_angle_x', 'left_angle_y', 'right_angle_x', 'right_angle_y']]\n",
    "print(len(df))\n",
    "print(df.dtypes)"
   ],
   "metadata": {
    "collapsed": false,
    "pycharm": {
     "name": "#%%\n",
     "is_executing": false
    }
   }
  },
  {
   "cell_type": "code",
   "execution_count": 25,
   "outputs": [
    {
     "name": "stdout",
     "text": [
      "0    b'FS'\n",
      "1    b'FS'\n",
      "2    b'FS'\n",
      "3    b'FS'\n",
      "4    b'FS'\n",
      "Name: BLOCK, dtype: object\n",
      "0\n",
      "[b'FS']\n"
     ],
     "output_type": "stream"
    }
   ],
   "source": [
    "print(df.BLOCK.head())\n",
    "print(np.sum(df.BLOCK.isna()))\n",
    "print(df.BLOCK.unique())"
   ],
   "metadata": {
    "collapsed": false,
    "pycharm": {
     "name": "#%%\n",
     "is_executing": false
    }
   }
  },
  {
   "cell_type": "code",
   "execution_count": 24,
   "outputs": [
    {
     "name": "stdout",
     "text": [
      "0    1\n",
      "1    1\n",
      "2    1\n",
      "3    1\n",
      "4    1\n",
      "Name: SESSION_ID, dtype: uint8\n",
      "False\n"
     ],
     "output_type": "stream"
    }
   ],
   "source": [
    "print(df.SESSION_ID.head())\n",
    "print(np.any(df.SESSION_ID.isna()) == True)"
   ],
   "metadata": {
    "collapsed": false,
    "pycharm": {
     "name": "#%%\n",
     "is_executing": false
    }
   }
  },
  {
   "cell_type": "code",
   "execution_count": 22,
   "outputs": [
    {
     "name": "stdout",
     "text": [
      "[b'DPI']\n"
     ],
     "output_type": "stream"
    }
   ],
   "source": [
    "print(df.eyetracker_model.unique())"
   ],
   "metadata": {
    "collapsed": false,
    "pycharm": {
     "name": "#%%\n",
     "is_executing": false
    }
   }
  },
  {
   "cell_type": "code",
   "execution_count": 3,
   "outputs": [
    {
     "name": "stdout",
     "text": [
      "13086\n"
     ],
     "output_type": "stream"
    }
   ],
   "source": [
    "print(len(df))\n",
    "# print(df.columns.values)\n",
    "# print(df.dtypes)\n",
    "# print(df.time.head())\n",
    "# print(df.dt.head())\n",
    "# print(df.device_time.head())  # same as time"
   ],
   "metadata": {
    "collapsed": false,
    "pycharm": {
     "name": "#%%\n",
     "is_executing": false
    }
   }
  },
  {
   "cell_type": "code",
   "execution_count": 4,
   "outputs": [
    {
     "data": {
      "text/plain": "<Figure size 432x288 with 1 Axes>",
      "image/png": "[encoded data removed]"
     },
     "metadata": {
      "needs_background": "light"
     },
     "output_type": "display_data"
    }
   ],
   "source": [
    "# sample rate: 100 samples per sec\n",
    "df = df[:]\n",
    "\n",
    "plt.scatter(df.right_angle_x, df.right_angle_y, label='sample', s = 0.5)\n",
    "#plt.scatter(df.target_angle_x, df.target_angle_y, color='red', label='target')\n",
    "plt.title('Right Eye Position')\n",
    "plt.xlabel('x (deg)')\n",
    "plt.ylabel('y (deg)')\n",
    "plt.legend()\n",
    "plt.show()"
   ],
   "metadata": {
    "collapsed": false,
    "pycharm": {
     "name": "#%%\n",
     "is_executing": false
    }
   }
  },
  {
   "cell_type": "code",
   "execution_count": 5,
   "outputs": [
    {
     "name": "stdout",
     "text": [
      "13042\n"
     ],
     "output_type": "stream"
    }
   ],
   "source": [
    "df.replace([np.inf, -np.inf], np.nan)\n",
    "df.dropna(inplace=True)\n",
    "\n",
    "print(len(df))"
   ],
   "metadata": {
    "collapsed": false,
    "pycharm": {
     "name": "#%% Remove NA's\n",
     "is_executing": false
    }
   }
  },
  {
   "cell_type": "code",
   "execution_count": 6,
   "outputs": [
    {
     "name": "stdout",
     "text": [
      "0    8.568000\n",
      "1    0.010000\n",
      "2    0.010000\n",
      "3    0.009999\n",
      "4    0.010000\n",
      "Name: isi, dtype: float64\n"
     ],
     "output_type": "stream"
    }
   ],
   "source": [
    "del_x_r = np.diff(df.right_angle_x, prepend=0)\n",
    "del_y_r = np.diff(df.right_angle_y, prepend=0)\n",
    "df['d_r'] = np.sqrt(del_x_r ** 2 + del_y_r ** 2)\n",
    "\n",
    "del_x_l = np.diff(df.left_angle_x, prepend=0)\n",
    "del_y_l = np.diff(df.left_angle_y, prepend=0)\n",
    "df['d_l'] = np.sqrt(del_x_l ** 2 + del_y_l ** 2)\n",
    "\n",
    "df['isi'] = np.diff(df.time, prepend=0)\n",
    "print(df.isi.head())\n",
    "\n",
    "df['vel_r'] = df.d_r / df.isi\n",
    "df['vel_l'] = df.d_l / df.isi\n",
    "\n",
    "del_vel_r = np.diff(df.vel_r, prepend=0)\n",
    "del_vel_l = np.diff(df.vel_l, prepend=0)\n",
    "\n",
    "df['accel_r'] = abs(del_vel_r) / df.isi\n",
    "df['accel_l'] = abs(del_vel_l) / df.isi\n",
    "\n",
    "del_accel_r = np.diff(df.accel_r, prepend=0)\n",
    "del_accel_l = np.diff(df.accel_l, prepend=0)\n",
    "\n",
    "df['jolt_r'] = del_accel_r / df.isi\n",
    "df['jolt_l'] = del_accel_l / df.isi\n",
    "\n",
    "# remove the first three datapoints (due to intersample calculations)\n",
    "df = df[3:]\n",
    "df.reset_index(drop=True, inplace=True)"
   ],
   "metadata": {
    "collapsed": false,
    "pycharm": {
     "name": "#%% Calculate amplitude, velocity, acceleration, change in acceleration (jolt)\n",
     "is_executing": false
    }
   }
  },
  {
   "cell_type": "code",
   "execution_count": 7,
   "outputs": [],
   "source": [
    "# left eye\n",
    "#interactive plotting in separate window\n",
    "%matplotlib qt \n",
    "fig = plt.figure(figsize=(10, 7))\n",
    "ax = plt.axes(projection=\"3d\")\n",
    "ax.scatter3D(df.d_l, df.vel_l, df.accel_l, s = 0.5, color=\"green\")\n",
    "plt.title(\"Left: Amp vs Vel vs Accel\")\n",
    "plt.show()"
   ],
   "metadata": {
    "collapsed": false,
    "pycharm": {
     "name": "#%% 3D plots\n",
     "is_executing": false
    }
   }
  },
  {
   "cell_type": "code",
   "execution_count": null,
   "outputs": [],
   "source": [
    "# right eye\n",
    "fig = plt.figure(figsize=(10, 7))\n",
    "ax = plt.axes(projection=\"3d\")\n",
    "ax.scatter3D(df.d_r, df.vel_r, df.accel_r, s = 0.5, color=\"green\")\n",
    "plt.title(\"Right: Amp vs Vel vs Accel\")\n",
    "plt.show()"
   ],
   "metadata": {
    "collapsed": false,
    "pycharm": {
     "name": "#%%\n"
    }
   }
  },
  {
   "cell_type": "code",
   "execution_count": null,
   "outputs": [],
   "source": [
    "#normal charts inside notebooks (back to html)\n",
    "%matplotlib inline "
   ],
   "metadata": {
    "collapsed": false,
    "pycharm": {
     "name": "#%%\n"
    }
   }
  },
  {
   "cell_type": "code",
   "execution_count": 7,
   "outputs": [
    {
     "data": {
      "text/plain": "<Figure size 432x288 with 1 Axes>",
      "image/png": "[encoded data removed]"
     },
     "metadata": {
      "needs_background": "light"
     },
     "output_type": "display_data"
    },
    {
     "data": {
      "text/plain": "<Figure size 432x288 with 1 Axes>",
      "image/png": "[encoded data removed]"
     },
     "metadata": {
      "needs_background": "light"
     },
     "output_type": "display_data"
    },
    {
     "data": {
      "text/plain": "<Figure size 432x288 with 1 Axes>",
      "image/png": "[encoded data removed]"
     },
     "metadata": {
      "needs_background": "light"
     },
     "output_type": "display_data"
    },
    {
     "data": {
      "text/plain": "<Figure size 432x288 with 1 Axes>",
      "image/png": "[encoded data removed]"
     },
     "metadata": {
      "needs_background": "light"
     },
     "output_type": "display_data"
    }
   ],
   "source": [
    "# left eye\n",
    "plt.scatter(df.d_l, df.vel_l)\n",
    "#plt.plot(df.d_l, 21 + 2.2*df.d_l, label = 'Carpenters Thm: D = 21 + 2.2*A')\n",
    "plt.title('Left Eye: Amplitude vs Velocity')\n",
    "plt.xlabel('deg')\n",
    "plt.ylabel('deg/s')\n",
    "plt.show()\n",
    "plt.scatter(df.vel_l, df.accel_l)\n",
    "plt.title('Left Eye: Velocity vs Acceleration')\n",
    "plt.xlabel('deg/s')\n",
    "plt.ylabel('deg/s^2')\n",
    "plt.show()\n",
    "\n",
    "# right eye\n",
    "plt.scatter(df.d_r, df.vel_r)\n",
    "#plt.plot(df.d_r, 21 + 2.2*df.d_r, label = 'Carpenters Thm: D = 21 + 2.2*A')\n",
    "plt.title('Left Eye: Amplitude vs Velocity')\n",
    "plt.xlabel('deg')\n",
    "plt.ylabel('deg/s')\n",
    "plt.show()\n",
    "plt.scatter(df.vel_r, df.accel_r)\n",
    "plt.title('Left Eye: Velocity vs Acceleration')\n",
    "plt.xlabel('deg/s')\n",
    "plt.ylabel('deg/s^2')\n",
    "plt.show()"
   ],
   "metadata": {
    "collapsed": false,
    "pycharm": {
     "name": "#%% Check correlation relations between variables\n",
     "is_executing": false
    }
   }
  },
  {
   "cell_type": "code",
   "execution_count": null,
   "outputs": [
    {
     "name": "stdout",
     "text": [
      "       0      1      2      3      4      5      6      7      8      9      \\\n",
      "0        1.0    1.0    1.0    1.0    1.0    1.0    1.0    1.0    1.0    1.0   \n",
      "1        1.0    1.0    1.0    1.0    1.0    1.0    1.0    1.0    1.0    1.0   \n",
      "2        1.0    1.0    1.0    1.0    1.0    1.0    1.0    1.0    1.0    1.0   \n",
      "3        1.0    1.0    1.0    1.0    1.0    1.0    1.0    1.0    1.0    1.0   \n",
      "4        1.0    1.0    1.0    1.0    1.0    1.0    1.0    1.0    1.0    1.0   \n",
      "...      ...    ...    ...    ...    ...    ...    ...    ...    ...    ...   \n",
      "13034    1.0    1.0    1.0    1.0    1.0    1.0    1.0    1.0    1.0    1.0   \n",
      "13035    1.0    1.0    1.0    1.0    1.0    1.0    1.0    1.0    1.0    1.0   \n",
      "13036    1.0    1.0    1.0    1.0    1.0    1.0    1.0    1.0    1.0    1.0   \n",
      "13037    1.0    1.0    1.0    1.0    1.0    1.0    1.0    1.0    1.0    1.0   \n",
      "13038    1.0    1.0    1.0    1.0    1.0    1.0    1.0    1.0    1.0    1.0   \n",
      "\n",
      "       ...  13029  13030  13031  13032  13033  13034  13035  13036  13037  \\\n",
      "0      ...    1.0    1.0    1.0    1.0    1.0    1.0    1.0    1.0    1.0   \n",
      "1      ...    1.0    1.0    1.0    1.0    1.0    1.0    1.0    1.0    1.0   \n",
      "2      ...    1.0    1.0    1.0    1.0    1.0    1.0    1.0    1.0    1.0   \n",
      "3      ...    1.0    1.0    1.0    1.0    1.0    1.0    1.0    1.0    1.0   \n",
      "4      ...    1.0    1.0    1.0    1.0    1.0    1.0    1.0    1.0    1.0   \n",
      "...    ...    ...    ...    ...    ...    ...    ...    ...    ...    ...   \n",
      "13034  ...    1.0    1.0    1.0    1.0    1.0    1.0    1.0    1.0    1.0   \n",
      "13035  ...    1.0    1.0    1.0    1.0    1.0    1.0    1.0    1.0    1.0   \n",
      "13036  ...    1.0    1.0    1.0    1.0    1.0    1.0    1.0    1.0    1.0   \n",
      "13037  ...    1.0    1.0    1.0    1.0    1.0    1.0    1.0    1.0    1.0   \n",
      "13038  ...    1.0    1.0    1.0    1.0    1.0    1.0    1.0    1.0    1.0   \n",
      "\n",
      "       13038  \n",
      "0        1.0  \n",
      "1        1.0  \n",
      "2        1.0  \n",
      "3        1.0  \n",
      "4        1.0  \n",
      "...      ...  \n",
      "13034    1.0  \n",
      "13035    1.0  \n",
      "13036    1.0  \n",
      "13037    1.0  \n",
      "13038    1.0  \n",
      "\n",
      "[13039 rows x 13039 columns]\n",
      "       0      1      2      3      4      5      6      7      8      9      \\\n",
      "0        1.0    1.0    1.0    1.0    1.0    1.0    1.0    1.0    1.0    1.0   \n",
      "1        1.0    1.0    1.0    1.0    1.0    1.0    1.0    1.0    1.0    1.0   \n",
      "2        1.0    1.0    1.0    1.0    1.0    1.0    1.0    1.0    1.0    1.0   \n",
      "3        1.0    1.0    1.0    1.0    1.0    1.0    1.0    1.0    1.0    1.0   \n",
      "4        1.0    1.0    1.0    1.0    1.0    1.0    1.0    1.0    1.0    1.0   \n",
      "...      ...    ...    ...    ...    ...    ...    ...    ...    ...    ...   \n",
      "13034    1.0    1.0    1.0    1.0    1.0    1.0    1.0    1.0    1.0    1.0   \n",
      "13035    1.0    1.0    1.0    1.0    1.0    1.0    1.0    1.0    1.0    1.0   \n",
      "13036    1.0    1.0    1.0    1.0    1.0    1.0    1.0    1.0    1.0    1.0   \n",
      "13037    1.0    1.0    1.0    1.0    1.0    1.0    1.0    1.0    1.0    1.0   \n",
      "13038    1.0    1.0    1.0    1.0    1.0    1.0    1.0    1.0    1.0    1.0   \n",
      "\n",
      "       ...  13029  13030  13031  13032  13033  13034  13035  13036  13037  \\\n",
      "0      ...    1.0    1.0    1.0    1.0    1.0    1.0    1.0    1.0    1.0   \n",
      "1      ...    1.0    1.0    1.0    1.0    1.0    1.0    1.0    1.0    1.0   \n",
      "2      ...    1.0    1.0    1.0    1.0    1.0    1.0    1.0    1.0    1.0   \n",
      "3      ...    1.0    1.0    1.0    1.0    1.0    1.0    1.0    1.0    1.0   \n",
      "4      ...    1.0    1.0    1.0    1.0    1.0    1.0    1.0    1.0    1.0   \n",
      "...    ...    ...    ...    ...    ...    ...    ...    ...    ...    ...   \n",
      "13034  ...    1.0    1.0    1.0    1.0    1.0    1.0    1.0    1.0    1.0   \n",
      "13035  ...    1.0    1.0    1.0    1.0    1.0    1.0    1.0    1.0    1.0   \n",
      "13036  ...    1.0    1.0    1.0    1.0    1.0    1.0    1.0    1.0    1.0   \n",
      "13037  ...    1.0    1.0    1.0    1.0    1.0    1.0    1.0    1.0    1.0   \n",
      "13038  ...    1.0    1.0    1.0    1.0    1.0    1.0    1.0    1.0    1.0   \n",
      "\n",
      "       13038  \n",
      "0        1.0  \n",
      "1        1.0  \n",
      "2        1.0  \n",
      "3        1.0  \n",
      "4        1.0  \n",
      "...      ...  \n",
      "13034    1.0  \n",
      "13035    1.0  \n",
      "13036    1.0  \n",
      "13037    1.0  \n",
      "13038    1.0  \n",
      "\n",
      "[13039 rows x 13039 columns]\n"
     ],
     "output_type": "stream"
    }
   ],
   "source": [
    "# prep for correlation between pupil sizes (left and right)\n",
    "corr_df = pd.DataFrame((df.left_pupil_measure1, df.right_pupil_measure1))\n",
    "pe_corr = corr_df.corr('pearson')\n",
    "sp_corr = corr_df.corr('spearman')\n",
    "print(pe_corr)\n",
    "print(sp_corr)\n",
    "\n",
    "# prep for correlation between amplitude and veloctiy\n",
    "corr_df = pd.DataFrame((df.d_r, df.vel_r)) \n",
    "pe_corr = corr_df.corr('pearson')\n",
    "sp_corr = corr_df.corr('spearman')\n",
    "print(pe_corr)\n",
    "print(sp_corr)"
   ],
   "metadata": {
    "collapsed": false,
    "pycharm": {
     "name": "#%% compute pairwise correlation matrix for review\n",
     "is_executing": true
    }
   }
  },
  {
   "cell_type": "code",
   "execution_count": null,
   "outputs": [],
   "source": [
    "\n",
    "print(np.sum(np.where(df.left_pupil_measure1 == 0)))\n",
    "print(np.sum(np.where(df.right_pupil_measure1 == 0)))\n",
    "print(np.sum(np.where(df.vel_l == 0)))\n",
    "print(np.sum(np.where(df.vel_r == 0)))\n",
    "print('-------------')\n",
    "print('Correlation:')\n",
    "# scores are between -1 and 1 for perfectly negatively correlated variables and\n",
    "# perfectly positively correlated respectively (+- 0.5 is good threshold)\n",
    "\n",
    "# pearson correlation\n",
    "# Assumes Gaussian distribution of the data.\n",
    "print(stats.pearsonr(df.d_l, df.vel_l))\n",
    "print(stats.pearsonr(df.d_r, df.vel_r))\n",
    "print(stats.pearsonr(df.vel_l, df.accel_l))\n",
    "print(stats.pearsonr(df.vel_r, df.accel_r))\n",
    "\n",
    "# spearman correlation (non-parametric rank-based approach)\n",
    "# does not assume linear relation or gaussian distribution (also monotonic relation assumed)\n",
    "print(stats.spearmanr(df.d_l, df.vel_l))\n",
    "print(stats.spearmanr(df.d_r, df.vel_r))\n",
    "print(stats.spearmanr(df.vel_l, df.accel_l))\n",
    "print(stats.spearmanr(df.vel_r, df.accel_r))\n",
    "\"\"\"\n",
    "\n",
    "print('-------------')\n",
    "\n",
    "bad_data = []\n",
    "cond_1, cond_2, cond_3, cond_4, cond_5 = 0, 0, 0, 0, 0\n",
    "for i in range(len(df)):\n",
    "    d_l = df.d_l[i]\n",
    "    d_r = df.d_r[i]\n",
    "    vel_l = df.vel_l[i]\n",
    "    vel_r = df.vel_r[i]\n",
    "    accel_l = df.accel_l[i]\n",
    "    accel_r = df.accel_r[i]\n",
    "    pupil_l = df.left_pupil_measure1[i]\n",
    "    pupil_r = df.right_pupil_measure1[i]\n",
    "    \n",
    "    print('cond_1:')\n",
    "    print('    pupil_l:', pupil_l)\n",
    "    print('    pupil_r:', pupil_r)\n",
    "    print('cond_2:')\n",
    "    print('    abs(pupil_l - pupil_r):', abs(pupil_l - pupil_r))\n",
    "    print('cond_3:')\n",
    "    print('    vel_l:', vel_l)\n",
    "    print('    vel_r:', vel_r)\n",
    "    print('cond_4:')\n",
    "    print('    abs(vel_l - 21 - 2.2*d_l):', abs(vel_l - 21 - 2.2*d_l))\n",
    "    print('    abs(vel_r - 21 - 2.2*d_r):', abs(vel_r - 21 - 2.2*d_r))\n",
    "    print('cond_5:')\n",
    "    print('    abs(accel_l - 21 - 2.2*vel_l):', abs(accel_l - 21 - 2.2*vel_l))\n",
    "    print('    abs(accel_r - 21 - 2.2*vel_r):', abs(accel_r - 21 - 2.2*vel_r))\n",
    "    print('correlation:')\n",
    "    print('    spearmanr(d_l, vel_l):', stats.spearmanr(d_l, vel_l))\n",
    "    print('    spearmanr(d_r, vel_r):', stats.spearmanr(d_r, vel_r))\n",
    "    print('    spearmanr(vel_l, accel_l):', stats.spearmanr(vel_l, accel_l))\n",
    "    print('    spearmanr(vel_r, accel_r):', stats.spearmanr(vel_r, accel_r))\n",
    "    \n",
    "    # no pupil size?\n",
    "    if pupil_l == 0 or pupil_l == None or pupil_r == 0 or pupil_r == None:\n",
    "        bad_data.append(i)\n",
    "        cond_1 += 1\n",
    "    \n",
    "    # pupil size correlated?\n",
    "    elif abs(pupil_l - pupil_r) > 0.01:\n",
    "        bad_data.append(i)\n",
    "        cond_2 += 1\n",
    "    \n",
    "    # angular velocity greater than 1000 deg/s?\n",
    "    elif vel_r > 1000 or vel_r == 0 or vel_l > 1000 or vel_l == 0:\n",
    "        bad_data.append(i)\n",
    "        cond_3 += 1\n",
    "    \n",
    "    # correlation between amplitude of movement and velocity agrees with\n",
    "    # Carpenter's Theorem: D = 21 + 2.2A where D~deg/ms, A~deg traversed (+- 0.1)\n",
    "    elif abs(vel_l - 21 - 2.2*d_l) > 1 or abs(vel_r - 21 - 2.2*d_r) > 1:\n",
    "        bad_data.append(i)\n",
    "        cond_4 += 1\n",
    "    \n",
    "    # changes of direction in velocity during saccade (velocity and acceleration correlated)\n",
    "    elif abs(accel_l - 21 - 2.2*vel_l) > 1 or abs(accel_r - 21 - 2.2*vel_r) > 1:\n",
    "        bad_data.append(i)\n",
    "        cond_5 += 1\n",
    "        \n",
    "#df.drop(index = bad_data, inplace = True)\n",
    "#df.reset_index(drop=True, inplace=True)\n",
    "\n",
    "print(\"Number of datapoints with no pupil size:\", cond_1)\n",
    "print(\"Number of datapoints with uncorrelated pupil sizes:\", cond_2)\n",
    "print(\"Number of datapoints with intersample velocity equal to zero or greater than 1000 deg/ms:\", cond_3)\n",
    "print(\"Number of datapoints with no correlation (cov=0?) between displacement and velocity:\", cond_4)\n",
    "print(\"Number of datapoints with no correlation (cov-0?) between velocity and acceleration:\", cond_5)\n",
    "\n",
    "#df = df.iloc[1:]\n",
    "\"\"\""
   ],
   "metadata": {
    "collapsed": false,
    "pycharm": {
     "name": "#%% Clean data by eye physiology\n",
     "is_executing": true
    }
   }
  },
  {
   "cell_type": "code",
   "execution_count": null,
   "outputs": [],
   "source": [
    "\"\"\"\n",
    "plt.figure(figsize=(18, 6)) # In Matplotlib all the diagrams are created at a default size of 6.4 x 4.8 inches.\n",
    "plt.plot(df.time, df.d)\n",
    "plt.title('Displacement')\n",
    "plt.xlabel('time (ms)')\n",
    "plt.ylabel('dispersion (deg)')\n",
    "plt.show()\n",
    "\n",
    "plt.figure(figsize=(18, 6)) # In Matplotlib all the diagrams are created at a default size of 6.4 x 4.8 inches.\n",
    "plt.plot(df.time, df.vel)\n",
    "plt.title('Velocity')\n",
    "plt.xlabel('time (ms)')\n",
    "plt.ylabel('velocity (deg/s)')\n",
    "plt.show()\n",
    "\n",
    "plt.figure(figsize=(18, 6)) # In Matplotlib all the diagrams are created at a default size of 6.4 x 4.8 inches.\n",
    "plt.plot(df.time, df.accel)\n",
    "plt.title('Acceleration')\n",
    "plt.xlabel('time (ms)')\n",
    "plt.ylabel('acceleration (deg/s*s)')\n",
    "plt.show()\n",
    "\n",
    "fig = plt.figure(figsize=(18, 6)) # In Matplotlib all the diagrams are created at a default size of 6.4 x 4.8 inches.\n",
    "grid = plt.GridSpec(4, 4, hspace=0.5, wspace=0.2)\n",
    "\n",
    "# Define the axes\n",
    "ax_main = fig.add_subplot(grid[:-1, :-1])\n",
    "ax_right = fig.add_subplot(grid[:-1, -1], xticklabels=[], yticklabels=[])\n",
    "ax_bottom = fig.add_subplot(grid[-1, 0:-1], xticklabels=[], yticklabels=[])\n",
    "\n",
    "# Scatterplot on main ax\n",
    "ax_main.scatter(df.d, df.vel)\n",
    "\n",
    "# histogram on the right\n",
    "ax_bottom.hist(df.d, 30, histtype='stepfilled', orientation='vertical', color='deeppink')\n",
    "ax_bottom.invert_yaxis()\n",
    "\n",
    "# histogram in the bottom\n",
    "ax_right.hist(df.vel, 30, histtype='stepfilled', orientation='horizontal', color='deeppink')\n",
    "\n",
    "ax_main.set(title='Amplitude vs Velocity', xlabel ='displacement (deg)', ylabel ='velocity (deg/ms)')\n",
    "plt.show()\n",
    "\"\"\""
   ],
   "metadata": {
    "collapsed": false,
    "pycharm": {
     "name": "#%%\n",
     "is_executing": true
    }
   }
  },
  {
   "cell_type": "code",
   "execution_count": null,
   "outputs": [],
   "source": [],
   "metadata": {
    "collapsed": false,
    "pycharm": {
     "name": "#%%\n",
     "is_executing": true
    }
   }
  },
  {
   "cell_type": "code",
   "execution_count": null,
   "outputs": [],
   "source": [],
   "metadata": {
    "collapsed": false,
    "pycharm": {
     "name": "#%%\n",
     "is_executing": true
    }
   }
  }
 ],
 "metadata": {
  "kernelspec": {
   "display_name": "Python 3",
   "language": "python",
   "name": "python3"
  },
  "language_info": {
   "codemirror_mode": {
    "name": "ipython",
    "version": 2
   },
   "file_extension": ".py",
   "mimetype": "text/x-python",
   "name": "python",
   "nbconvert_exporter": "python",
   "pygments_lexer": "ipython2",
   "version": "2.7.6"
  },
  "pycharm": {
   "stem_cell": {
    "cell_type": "raw",
    "source": [],
    "metadata": {
     "collapsed": false
    }
   }
  }
 },
 "nbformat": 4,
 "nbformat_minor": 0
}