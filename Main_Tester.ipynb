{
 "cells": [
  {
   "cell_type": "code",
   "execution_count": 1,
   "metadata": {
    "collapsed": true,
    "pycharm": {
     "is_executing": false
    }
   },
   "outputs": [],
   "source": [
    "# import sys\n",
    "# sys.path.insert(1, \"/Users/ischoning/PycharmProjects/eyeMovements/eventdetect-master\")\n",
    "import pandas as pd\n",
    "from pylab import *\n",
    "import matplotlib.pyplot as plt\n",
    "import numpy as np\n",
    "import scipy.stats as stats\n",
    "import math\n",
    "import matplotlib.transforms as mtransforms\n",
    "import viterbi\n",
    "import baum_welch\n",
    "from scipy.interpolate import make_interp_spline, BSpline"
   ]
  },
  {
   "cell_type": "code",
   "execution_count": 2,
   "outputs": [
    {
     "name": "stdout",
     "text": [
      "13086\n",
      "#subject_id                   int64\n",
      "display_refresh_rate          int64\n",
      "eyetracker_model             object\n",
      "dot_deg_sz                  float64\n",
      "eyetracker_sampling_rate    float64\n",
      "eyetracker_mode              object\n",
      "fix_stim_center_size_pix      int64\n",
      "operator                     object\n",
      "et_model                     object\n",
      "display_width_pix             int64\n",
      "display_height_pix            int64\n",
      "exp_date                     object\n",
      "screen_width                float64\n",
      "screen_height               float64\n",
      "eye_distance                float64\n",
      "SESSION_ID                    int64\n",
      "trial_id                      int64\n",
      "TRIAL_START                 float64\n",
      "TRIAL_END                   float64\n",
      "posx                        float64\n",
      "posy                        float64\n",
      "dt                          float64\n",
      "ROW_INDEX                     int64\n",
      "BLOCK                        object\n",
      "session_id                    int64\n",
      "device_time                 float64\n",
      "time                        float64\n",
      "left_gaze_x                 float64\n",
      "left_gaze_y                 float64\n",
      "left_pupil_measure1         float64\n",
      "right_gaze_x                float64\n",
      "right_gaze_y                float64\n",
      "right_pupil_measure1        float64\n",
      "status                        int64\n",
      "target_angle_x              float64\n",
      "target_angle_y              float64\n",
      "left_angle_x                float64\n",
      "left_angle_y                float64\n",
      "right_angle_x               float64\n",
      "right_angle_y               float64\n",
      "dtype: object\n",
      "0    8.568\n",
      "1    8.578\n",
      "2    8.588\n",
      "3    8.598\n",
      "4    8.608\n",
      "Name: time, dtype: float64\n",
      "0    1600.0\n",
      "1    1600.0\n",
      "2    1600.0\n",
      "3    1600.0\n",
      "4    1600.0\n",
      "Name: dt, dtype: float64\n",
      "0    8.568\n",
      "1    8.578\n",
      "2    8.588\n",
      "3    8.598\n",
      "4    8.608\n",
      "Name: device_time, dtype: float64\n"
     ],
     "output_type": "stream"
    },
    {
     "data": {
      "text/plain": "<Figure size 432x288 with 1 Axes>",
      "image/png": "[encoded data removed]"
     },
     "metadata": {
      "needs_background": "light"
     },
     "output_type": "display_data"
    }
   ],
   "source": [
    "# files\n",
    "file = '/Users/ischoning/PycharmProjects/GitHub/data/varjo_events_3_0_0.txt'\n",
    "\n",
    "# create dataframe\n",
    "df = pd.read_csv(file, sep=\"\\t\")\n",
    "\n",
    "print(len(df))\n",
    "# print(df.columns.values)\n",
    "print(df.dtypes)\n",
    "print(df.time.head())\n",
    "print(df.dt.head())\n",
    "print(df.device_time.head()) # same as time\n",
    "\n",
    "# sample rate: 100 samples per sec\n",
    "df = df[:]\n",
    "\n",
    "plt.scatter(df.right_angle_x, df.right_angle_y, label = 'sample')\n",
    "plt.scatter(df.target_angle_x, df.target_angle_y, color = 'red', label = 'target')\n",
    "plt.title('Position')\n",
    "plt.xlabel('x (deg)')\n",
    "plt.ylabel('y (deg)')\n",
    "plt.legend()\n",
    "plt.show()"
   ],
   "metadata": {
    "collapsed": false,
    "pycharm": {
     "name": "#%%\n",
     "is_executing": false
    }
   }
  },
  {
   "cell_type": "code",
   "execution_count": 3,
   "outputs": [],
   "source": [
    "df.replace([np.inf, -np.inf], np.nan)\n",
    "df.dropna(inplace=True)"
   ],
   "metadata": {
    "collapsed": false,
    "pycharm": {
     "name": "#%% Remove NA's\n",
     "is_executing": false
    }
   }
  },
  {
   "cell_type": "code",
   "execution_count": 4,
   "outputs": [
    {
     "name": "stdout",
     "text": [
      "0    8.568000\n",
      "1    0.010000\n",
      "2    0.010000\n",
      "3    0.009999\n",
      "4    0.010000\n",
      "Name: isi, dtype: float64\n"
     ],
     "output_type": "stream"
    }
   ],
   "source": [
    "del_x_r = np.diff(df.right_angle_x, prepend=0)\n",
    "del_y_r = np.diff(df.right_angle_y, prepend=0)\n",
    "df['d_r'] = np.sqrt(del_x_r**2 + del_y_r**2)\n",
    "\n",
    "del_x_l = np.diff(df.left_angle_x, prepend=0)\n",
    "del_y_l = np.diff(df.left_angle_y, prepend=0)\n",
    "df['d_l'] = np.sqrt(del_x_l**2 + del_y_l**2)\n",
    "\n",
    "df['isi'] = np.diff(df.time, prepend = 0)\n",
    "print(df.isi.head())\n",
    "\n",
    "df['vel_r'] = df.d_r/df.isi\n",
    "df['vel_l'] = df.d_l/df.isi\n",
    "\n",
    "del_vel_r = np.diff(df.vel_r, prepend=0)\n",
    "del_vel_l = np.diff(df.vel_l, prepend=0)\n",
    "\n",
    "df['accel_r'] = del_vel_r/df.isi\n",
    "df['accel_l'] = del_vel_l/df.isi\n",
    "\n",
    "del_accel_r = np.diff(df.accel_r, prepend=0)\n",
    "del_accel_l = np.diff(df.accel_l, prepend=0)\n",
    "\n",
    "df['jolt_r'] = del_accel_r/df.isi\n",
    "df['jolt_l'] = del_accel_l/df.isi\n",
    "\n",
    "# remove the first three datapoints (due to intersample calculations)\n",
    "df = df[3:]\n",
    "df.reset_index(drop=True, inplace=True)"
   ],
   "metadata": {
    "collapsed": false,
    "pycharm": {
     "name": "#%% Calculate amplitude, velocity, acceleration, change in acceleration\n",
     "is_executing": false
    }
   }
  },
  {
   "cell_type": "code",
   "execution_count": 5,
   "outputs": [
    {
     "data": {
      "text/plain": "<Figure size 432x288 with 1 Axes>",
      "image/png": "[encoded data removed]"
     },
     "metadata": {
      "needs_background": "light"
     },
     "output_type": "display_data"
    },
    {
     "data": {
      "text/plain": "<Figure size 432x288 with 1 Axes>",
      "image/png": "[encoded data removed]"
     },
     "metadata": {
      "needs_background": "light"
     },
     "output_type": "display_data"
    },
    {
     "data": {
      "text/plain": "<Figure size 432x288 with 1 Axes>",
      "image/png": "[encoded data removed]"
     },
     "metadata": {
      "needs_background": "light"
     },
     "output_type": "display_data"
    },
    {
     "data": {
      "text/plain": "<Figure size 432x288 with 1 Axes>",
      "image/png": "[encoded data removed]"
     },
     "metadata": {
      "needs_background": "light"
     },
     "output_type": "display_data"
    }
   ],
   "source": [
    "# left eye\n",
    "plt.scatter(df.d_l, df.vel_l)\n",
    "#plt.plot(df.d_l, 21 + 2.2*df.d_l, label = 'Carpenters Thm: D = 21 + 2.2*A')\n",
    "plt.title('Left Eye: Amplitude vs Velocity')\n",
    "plt.xlabel('deg')\n",
    "plt.ylabel('deg/s')\n",
    "plt.show()\n",
    "plt.scatter(df.vel_l, df.accel_l)\n",
    "plt.title('Left Eye: Velocity vs Acceleration')\n",
    "plt.xlabel('deg/s')\n",
    "plt.ylabel('deg/s^2')\n",
    "plt.show()\n",
    "\n",
    "# right eye\n",
    "plt.scatter(df.d_r, df.vel_r)\n",
    "#plt.plot(df.d_r, 21 + 2.2*df.d_r, label = 'Carpenters Thm: D = 21 + 2.2*A')\n",
    "plt.title('Left Eye: Amplitude vs Velocity')\n",
    "plt.xlabel('deg')\n",
    "plt.ylabel('deg/s')\n",
    "plt.show()\n",
    "plt.scatter(df.vel_r, df.accel_r)\n",
    "plt.title('Left Eye: Velocity vs Acceleration')\n",
    "plt.xlabel('deg/s')\n",
    "plt.ylabel('deg/s^2')\n",
    "plt.show()"
   ],
   "metadata": {
    "collapsed": false,
    "pycharm": {
     "name": "#%% Check correlation relations between variables\n",
     "is_executing": false
    }
   }
  },
  {
   "cell_type": "code",
   "execution_count": null,
   "outputs": [],
   "source": [
    "# prep for correlation between pupil sizes (left and right)\n",
    "corr_df = pd.DataFrame((df.left_pupil_measure1, df.right_pupil_measure1))\n",
    "pe_corr = corr_df.corr('pearson')\n",
    "sp_corr = corr_df.corr('spearman')\n",
    "print(pe_corr)\n",
    "print(sp_corr)\n",
    "\n",
    "# prep for correlation between amplitude and veloctiy\n",
    "corr_df = pd.DataFrame((df.d_r, df.vel_r)) \n",
    "pe_corr = corr_df.corr('pearson')\n",
    "sp_corr = corr_df.corr('spearman')\n",
    "print(pe_corr)\n",
    "print(sp_corr)"
   ],
   "metadata": {
    "collapsed": false,
    "pycharm": {
     "name": "#%% compute pairwise correlation matrix for review\n",
     "is_executing": true
    }
   }
  },
  {
   "cell_type": "code",
   "execution_count": null,
   "outputs": [],
   "source": [
    "\n",
    "print(np.sum(np.where(df.left_pupil_measure1 == 0)))\n",
    "print(np.sum(np.where(df.right_pupil_measure1 == 0)))\n",
    "print(np.sum(np.where(df.vel_l == 0)))\n",
    "print(np.sum(np.where(df.vel_r == 0)))\n",
    "print('-------------')\n",
    "print('Correlation:')\n",
    "# scores are between -1 and 1 for perfectly negatively correlated variables and\n",
    "# perfectly positively correlated respectively (+- 0.5 is good threshold)\n",
    "\n",
    "# pearson correlation\n",
    "# Assumes Gaussian distribution of the data.\n",
    "print(stats.pearsonr(df.d_l, df.vel_l))\n",
    "print(stats.pearsonr(df.d_r, df.vel_r))\n",
    "print(stats.pearsonr(df.vel_l, df.accel_l))\n",
    "print(stats.pearsonr(df.vel_r, df.accel_r))\n",
    "\n",
    "# spearman correlation (non-parametric rank-based approach)\n",
    "# does not assume linear relation or gaussian distribution (also monotonic relation assumed)\n",
    "print(stats.spearmanr(df.d_l, df.vel_l))\n",
    "print(stats.spearmanr(df.d_r, df.vel_r))\n",
    "print(stats.spearmanr(df.vel_l, df.accel_l))\n",
    "print(stats.spearmanr(df.vel_r, df.accel_r))\n",
    "\"\"\"\n",
    "\n",
    "print('-------------')\n",
    "\n",
    "bad_data = []\n",
    "cond_1, cond_2, cond_3, cond_4, cond_5 = 0, 0, 0, 0, 0\n",
    "for i in range(len(df)):\n",
    "    d_l = df.d_l[i]\n",
    "    d_r = df.d_r[i]\n",
    "    vel_l = df.vel_l[i]\n",
    "    vel_r = df.vel_r[i]\n",
    "    accel_l = df.accel_l[i]\n",
    "    accel_r = df.accel_r[i]\n",
    "    pupil_l = df.left_pupil_measure1[i]\n",
    "    pupil_r = df.right_pupil_measure1[i]\n",
    "    \n",
    "    print('cond_1:')\n",
    "    print('    pupil_l:', pupil_l)\n",
    "    print('    pupil_r:', pupil_r)\n",
    "    print('cond_2:')\n",
    "    print('    abs(pupil_l - pupil_r):', abs(pupil_l - pupil_r))\n",
    "    print('cond_3:')\n",
    "    print('    vel_l:', vel_l)\n",
    "    print('    vel_r:', vel_r)\n",
    "    print('cond_4:')\n",
    "    print('    abs(vel_l - 21 - 2.2*d_l):', abs(vel_l - 21 - 2.2*d_l))\n",
    "    print('    abs(vel_r - 21 - 2.2*d_r):', abs(vel_r - 21 - 2.2*d_r))\n",
    "    print('cond_5:')\n",
    "    print('    abs(accel_l - 21 - 2.2*vel_l):', abs(accel_l - 21 - 2.2*vel_l))\n",
    "    print('    abs(accel_r - 21 - 2.2*vel_r):', abs(accel_r - 21 - 2.2*vel_r))\n",
    "    print('correlation:')\n",
    "    print('    spearmanr(d_l, vel_l):', stats.spearmanr(d_l, vel_l))\n",
    "    print('    spearmanr(d_r, vel_r):', stats.spearmanr(d_r, vel_r))\n",
    "    print('    spearmanr(vel_l, accel_l):', stats.spearmanr(vel_l, accel_l))\n",
    "    print('    spearmanr(vel_r, accel_r):', stats.spearmanr(vel_r, accel_r))\n",
    "    \n",
    "    # no pupil size?\n",
    "    if pupil_l == 0 or pupil_l == None or pupil_r == 0 or pupil_r == None:\n",
    "        bad_data.append(i)\n",
    "        cond_1 += 1\n",
    "    \n",
    "    # pupil size correlated?\n",
    "    elif abs(pupil_l - pupil_r) > 0.01:\n",
    "        bad_data.append(i)\n",
    "        cond_2 += 1\n",
    "    \n",
    "    # angular velocity greater than 1000 deg/s?\n",
    "    elif vel_r > 1000 or vel_r == 0 or vel_l > 1000 or vel_l == 0:\n",
    "        bad_data.append(i)\n",
    "        cond_3 += 1\n",
    "    \n",
    "    # correlation between amplitude of movement and velocity agrees with\n",
    "    # Carpenter's Theorem: D = 21 + 2.2A where D~deg/ms, A~deg traversed (+- 0.1)\n",
    "    elif abs(vel_l - 21 - 2.2*d_l) > 1 or abs(vel_r - 21 - 2.2*d_r) > 1:\n",
    "        bad_data.append(i)\n",
    "        cond_4 += 1\n",
    "    \n",
    "    # changes of direction in velocity during saccade (velocity and acceleration correlated)\n",
    "    elif abs(accel_l - 21 - 2.2*vel_l) > 1 or abs(accel_r - 21 - 2.2*vel_r) > 1:\n",
    "        bad_data.append(i)\n",
    "        cond_5 += 1\n",
    "        \n",
    "#df.drop(index = bad_data, inplace = True)\n",
    "#df.reset_index(drop=True, inplace=True)\n",
    "\n",
    "print(\"Number of datapoints with no pupil size:\", cond_1)\n",
    "print(\"Number of datapoints with uncorrelated pupil sizes:\", cond_2)\n",
    "print(\"Number of datapoints with intersample velocity equal to zero or greater than 1000 deg/ms:\", cond_3)\n",
    "print(\"Number of datapoints with no correlation (cov=0?) between displacement and velocity:\", cond_4)\n",
    "print(\"Number of datapoints with no correlation (cov-0?) between velocity and acceleration:\", cond_5)\n",
    "\n",
    "#df = df.iloc[1:]\n",
    "\"\"\""
   ],
   "metadata": {
    "collapsed": false,
    "pycharm": {
     "name": "#%% Clean data by eye physiology\n",
     "is_executing": true
    }
   }
  },
  {
   "cell_type": "code",
   "execution_count": null,
   "outputs": [],
   "source": [
    "\"\"\"\n",
    "plt.figure(figsize=(18, 6)) # In Matplotlib all the diagrams are created at a default size of 6.4 x 4.8 inches.\n",
    "plt.plot(df.time, df.d)\n",
    "plt.title('Displacement')\n",
    "plt.xlabel('time (ms)')\n",
    "plt.ylabel('dispersion (deg)')\n",
    "plt.show()\n",
    "\n",
    "plt.figure(figsize=(18, 6)) # In Matplotlib all the diagrams are created at a default size of 6.4 x 4.8 inches.\n",
    "plt.plot(df.time, df.vel)\n",
    "plt.title('Velocity')\n",
    "plt.xlabel('time (ms)')\n",
    "plt.ylabel('velocity (deg/s)')\n",
    "plt.show()\n",
    "\n",
    "plt.figure(figsize=(18, 6)) # In Matplotlib all the diagrams are created at a default size of 6.4 x 4.8 inches.\n",
    "plt.plot(df.time, df.accel)\n",
    "plt.title('Acceleration')\n",
    "plt.xlabel('time (ms)')\n",
    "plt.ylabel('acceleration (deg/s*s)')\n",
    "plt.show()\n",
    "\n",
    "fig = plt.figure(figsize=(18, 6)) # In Matplotlib all the diagrams are created at a default size of 6.4 x 4.8 inches.\n",
    "grid = plt.GridSpec(4, 4, hspace=0.5, wspace=0.2)\n",
    "\n",
    "# Define the axes\n",
    "ax_main = fig.add_subplot(grid[:-1, :-1])\n",
    "ax_right = fig.add_subplot(grid[:-1, -1], xticklabels=[], yticklabels=[])\n",
    "ax_bottom = fig.add_subplot(grid[-1, 0:-1], xticklabels=[], yticklabels=[])\n",
    "\n",
    "# Scatterplot on main ax\n",
    "ax_main.scatter(df.d, df.vel)\n",
    "\n",
    "# histogram on the right\n",
    "ax_bottom.hist(df.d, 30, histtype='stepfilled', orientation='vertical', color='deeppink')\n",
    "ax_bottom.invert_yaxis()\n",
    "\n",
    "# histogram in the bottom\n",
    "ax_right.hist(df.vel, 30, histtype='stepfilled', orientation='horizontal', color='deeppink')\n",
    "\n",
    "ax_main.set(title='Amplitude vs Velocity', xlabel ='displacement (deg)', ylabel ='velocity (deg/ms)')\n",
    "plt.show()\n",
    "\"\"\""
   ],
   "metadata": {
    "collapsed": false,
    "pycharm": {
     "name": "#%%\n",
     "is_executing": true
    }
   }
  },
  {
   "cell_type": "code",
   "execution_count": null,
   "outputs": [],
   "source": [],
   "metadata": {
    "collapsed": false,
    "pycharm": {
     "name": "#%%\n",
     "is_executing": true
    }
   }
  },
  {
   "cell_type": "code",
   "execution_count": null,
   "outputs": [],
   "source": [],
   "metadata": {
    "collapsed": false,
    "pycharm": {
     "name": "#%%\n",
     "is_executing": true
    }
   }
  }
 ],
 "metadata": {
  "kernelspec": {
   "display_name": "Python 3",
   "language": "python",
   "name": "python3"
  },
  "language_info": {
   "codemirror_mode": {
    "name": "ipython",
    "version": 2
   },
   "file_extension": ".py",
   "mimetype": "text/x-python",
   "name": "python",
   "nbconvert_exporter": "python",
   "pygments_lexer": "ipython2",
   "version": "2.7.6"
  },
  "pycharm": {
   "stem_cell": {
    "cell_type": "raw",
    "source": [],
    "metadata": {
     "collapsed": false
    }
   }
  }
 },
 "nbformat": 4,
 "nbformat_minor": 0
}